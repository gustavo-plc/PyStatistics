{
  "nbformat": 4,
  "nbformat_minor": 0,
  "metadata": {
    "colab": {
      "provenance": [],
      "mount_file_id": "1SgC3KOC0WotLeIc8Qnj0sLZzwhSJhnvq",
      "authorship_tag": "ABX9TyNx6sws+OnCp25zuVPhGWJb",
      "include_colab_link": true
    },
    "kernelspec": {
      "name": "python3",
      "display_name": "Python 3"
    },
    "language_info": {
      "name": "python"
    }
  },
  "cells": [
    {
      "cell_type": "markdown",
      "metadata": {
        "id": "view-in-github",
        "colab_type": "text"
      },
      "source": [
        "<a href=\"https://colab.research.google.com/github/gustavo-plc/PyStatistics/blob/main/Statistics_in_Py.ipynb\" target=\"_parent\"><img src=\"https://colab.research.google.com/assets/colab-badge.svg\" alt=\"Open In Colab\"/></a>"
      ]
    },
    {
      "cell_type": "markdown",
      "source": [
        "# **Measures of center**"
      ],
      "metadata": {
        "id": "Pp5W7hF-2iTy"
      }
    },
    {
      "cell_type": "code",
      "execution_count": 14,
      "metadata": {
        "id": "Wv_RXiXy1dsj",
        "colab": {
          "base_uri": "https://localhost:8080/",
          "height": 770
        },
        "outputId": "7ed46efc-3b5c-4a92-fee2-9f650bad3e2a"
      },
      "outputs": [
        {
          "output_type": "stream",
          "name": "stdout",
          "text": [
            "   Unnamed: 0    country food_category  consumption  co2_emission\n",
            "0           1  Argentina          pork        10.51         37.20\n",
            "1           2  Argentina       poultry        38.66         41.53\n",
            "2           3  Argentina          beef        55.48       1712.00\n",
            "3           4  Argentina     lamb_goat         1.56         54.63\n",
            "4           5  Argentina          fish         4.36          6.96\n",
            "5           6  Argentina          eggs        11.39         10.46\n",
            "6           7  Argentina         dairy       195.08        277.87\n",
            "7           8  Argentina         wheat       103.11         19.66\n",
            "8           9  Argentina          rice         8.77         11.22\n",
            "9          10  Argentina      soybeans         0.00          0.00\n",
            "\n",
            "44.65\n",
            "14.58\n"
          ]
        },
        {
          "output_type": "display_data",
          "data": {
            "text/plain": [
              "<Figure size 640x480 with 1 Axes>"
            ],
            "image/png": "[encoded data removed]"
          },
          "metadata": {}
        },
        {
          "output_type": "stream",
          "name": "stdout",
          "text": [
            "\n",
            "mean      37.591615\n",
            "median    15.200000\n",
            "Name: co2_emission, dtype: float64\n",
            "\n"
          ]
        }
      ],
      "source": [
        "# Mean and median\n",
        "\n",
        "# IMPORTING PACKAGES\n",
        "\n",
        "import pandas as pd\n",
        "import numpy as np\n",
        "\n",
        "# READING FILES\n",
        "\n",
        "path = '/content/drive/MyDrive/Colab Notebooks/Statistics in Py/food_consumption.csv'\n",
        "\n",
        "food_consumption = pd.read_csv(path)\n",
        "\n",
        "# KNOW YOUR DATA\n",
        "\n",
        "print(food_consumption.head(10))\n",
        "print()\n",
        "\n",
        "# MANIPULATING DATA\n",
        "\n",
        "# Subset country for USA: usa_consumption\n",
        "usa_consumption = food_consumption[food_consumption['country'] == 'USA']\n",
        "\n",
        "# Calculate mean consumption in USA\n",
        "print(f\"{np.mean(usa_consumption['consumption']):.2f}\")\n",
        "\n",
        "# Calculate median consumption in USA\n",
        "print(np.median(usa_consumption['consumption']))\n",
        "\n",
        "# MEAN AND MEDIAN VALUES ARE QUIET DIFFERENT. WE HAVE TO UNDERSTAND BETTER THE DATA\n",
        "\n",
        "# Import matplotlib.pyplot with alias plt\n",
        "import matplotlib.pyplot as plt\n",
        "\n",
        "# Subset for food_category equals rice\n",
        "rice_consumption = food_consumption[food_consumption['food_category'] == 'rice']\n",
        "\n",
        "# Histogram of co2_emission for rice and show plot\n",
        "plt.hist(rice_consumption['co2_emission'])\n",
        "plt.show()\n",
        "print()\n",
        "\n",
        "# THE CHART SHOWS THAT DATA IS NOT EQUALY DISTRIBUTED, THAT IS WHY MEAN AND MEDIAN ARE SO DIFFERENT.\n",
        "\n",
        "# Calculate mean and median of co2_emission with .agg()\n",
        "print(rice_consumption['co2_emission'].agg(['mean', 'median']))\n",
        "print()"
      ]
    },
    {
      "cell_type": "markdown",
      "source": [
        "# **Measures of spread**"
      ],
      "metadata": {
        "id": "ui6SccGak7fD"
      }
    },
    {
      "cell_type": "code",
      "source": [
        "# Variance and standard deviation\n",
        "\n",
        "# IMPORTING PACKAGES\n",
        "\n",
        "import pandas as pd\n",
        "import numpy as np\n",
        "import matplotlib.pyplot as plt\n",
        "\n",
        "\n",
        "# READING FILES\n",
        "\n",
        "path = '/content/drive/MyDrive/Colab Notebooks/Statistics in Py/food_consumption.csv'\n",
        "\n",
        "food_consumption = pd.read_csv(path)\n",
        "\n",
        "# KNOW YOUR DATA\n",
        "\n",
        "print(food_consumption.head(10))\n",
        "print()\n",
        "\n",
        "# MANIPULATING DATA\n",
        "\n",
        "# Print variance and sd of co2_emission for each food_category\n",
        "print(food_consumption.groupby('food_category')['co2_emission'].agg(['var', 'std']))\n",
        "\n",
        "# IN THE CODE ABOVE, DATA IS GROUPED BY FOOD CATEGORY AND THEN VALUES OF VAR AND STD ARE PROVIDED TO CO2 EMISSIONS DATA FOR EACH GROUP\n",
        "\n",
        "# Create histogram of co2_emission for food_category 'beef'\n",
        "food_consumption[food_consumption['food_category'] == 'beef']['co2_emission'].hist()\n",
        "plt.show()\n",
        "\n",
        "# Create histogram of co2_emission for food_category 'eggs'\n",
        "food_consumption[food_consumption['food_category'] == 'eggs']['co2_emission'].hist()\n",
        "plt.show()\n",
        "\n",
        "# THE DISTRIBUTION PLOT SHOWS THAT DATA FROM BEEF IS SKEWED WHILE THE DATA FROM EGGS IS BETTER SPREAD."
      ],
      "metadata": {
        "colab": {
          "base_uri": "https://localhost:8080/",
          "height": 1000
        },
        "id": "Lwbq0ryNswcB",
        "outputId": "73caf434-80c1-4043-fabc-f810d9d7e942"
      },
      "execution_count": 1,
      "outputs": [
        {
          "output_type": "stream",
          "name": "stdout",
          "text": [
            "   Unnamed: 0    country food_category  consumption  co2_emission\n",
            "0           1  Argentina          pork        10.51         37.20\n",
            "1           2  Argentina       poultry        38.66         41.53\n",
            "2           3  Argentina          beef        55.48       1712.00\n",
            "3           4  Argentina     lamb_goat         1.56         54.63\n",
            "4           5  Argentina          fish         4.36          6.96\n",
            "5           6  Argentina          eggs        11.39         10.46\n",
            "6           7  Argentina         dairy       195.08        277.87\n",
            "7           8  Argentina         wheat       103.11         19.66\n",
            "8           9  Argentina          rice         8.77         11.22\n",
            "9          10  Argentina      soybeans         0.00          0.00\n",
            "\n",
            "                        var         std\n",
            "food_category                          \n",
            "beef           88748.408132  297.906710\n",
            "dairy          17671.891985  132.935669\n",
            "eggs              21.371819    4.622966\n",
            "fish             921.637349   30.358481\n",
            "lamb_goat      16475.518363  128.356996\n",
            "nuts              35.639652    5.969895\n",
            "pork            3094.963537   55.632396\n",
            "poultry          245.026801   15.653332\n",
            "rice            2281.376243   47.763754\n",
            "soybeans           0.879882    0.938020\n",
            "wheat             71.023937    8.427570\n"
          ]
        },
        {
          "output_type": "display_data",
          "data": {
            "text/plain": [
              "<Figure size 640x480 with 1 Axes>"
            ],
            "image/png": "[encoded data removed]"
          },
          "metadata": {}
        },
        {
          "output_type": "display_data",
          "data": {
            "text/plain": [
              "<Figure size 640x480 with 1 Axes>"
            ],
            "image/png": "[encoded data removed]"
          },
          "metadata": {}
        }
      ]
    },
    {
      "cell_type": "markdown",
      "source": [
        "# **Quartiles, quantiles, and quintiles**"
      ],
      "metadata": {
        "id": "adze_UIn5SoS"
      }
    },
    {
      "cell_type": "code",
      "source": [
        "# IMPORTING PACKAGES\n",
        "\n",
        "import pandas as pd\n",
        "import numpy as np\n",
        "\n",
        "# READING FILES\n",
        "\n",
        "path = '/content/drive/MyDrive/Colab Notebooks/Statistics in Py/food_consumption.csv'\n",
        "\n",
        "food_consumption = pd.read_csv(path)\n",
        "\n",
        "# KNOW YOUR DATA\n",
        "\n",
        "print(food_consumption.head(10))\n",
        "print()\n",
        "\n",
        "# MANIPULATING DATA\n",
        "\n",
        "# QUARTILES SPLIT THE DATASET INTO 4 PIECES\n",
        "\n",
        "# Calculate the quartiles of co2_emission\n",
        "print(np.quantile(food_consumption['co2_emission'], [0, 0.25, 0.5, 0.75, 1]))\n",
        "print()\n",
        "# [   0.        5.21     16.53     62.5975 1712.    ]\n",
        "# THE RESULT SHOWS THAT 25% OF THE DATA IS BELOW 5.21\n",
        "# HALF OF DATA IS BELOW AND ALSO ABOVE 16.53, WHICH IS ALSO THE MEDIAN\n",
        "\n",
        "print(np.median(food_consumption['co2_emission']))\n",
        "print()\n",
        "\n",
        "# Calculate the quintiles of co2_emission\n",
        "print(np.quantile(food_consumption['co2_emission'], [0, 0.2, 0.4, 0.6, 0.8, 1]))\n",
        "print()\n",
        "\n",
        "# Calculate the deciles of co2_emission\n",
        "print(np.quantile(food_consumption['co2_emission'], [0, 0.1, 0.2, 0.3, 0.4,\n",
        "                                                     0.5, 0.6, 0.7, 0.8,\n",
        "                                                     0.9, 1]))\n",
        "print()"
      ],
      "metadata": {
        "colab": {
          "base_uri": "https://localhost:8080/"
        },
        "id": "kt85_q0o5XfH",
        "outputId": "fb1ab11c-181e-4732-a481-ee5a309093de"
      },
      "execution_count": 9,
      "outputs": [
        {
          "output_type": "stream",
          "name": "stdout",
          "text": [
            "   Unnamed: 0    country food_category  consumption  co2_emission\n",
            "0           1  Argentina          pork        10.51         37.20\n",
            "1           2  Argentina       poultry        38.66         41.53\n",
            "2           3  Argentina          beef        55.48       1712.00\n",
            "3           4  Argentina     lamb_goat         1.56         54.63\n",
            "4           5  Argentina          fish         4.36          6.96\n",
            "5           6  Argentina          eggs        11.39         10.46\n",
            "6           7  Argentina         dairy       195.08        277.87\n",
            "7           8  Argentina         wheat       103.11         19.66\n",
            "8           9  Argentina          rice         8.77         11.22\n",
            "9          10  Argentina      soybeans         0.00          0.00\n",
            "\n",
            "[   0.        5.21     16.53     62.5975 1712.    ]\n",
            "\n",
            "16.53\n",
            "\n",
            "[   0.       3.54    11.026   25.59    99.978 1712.   ]\n",
            "\n",
            "[0.00000e+00 6.68000e-01 3.54000e+00 7.04000e+00 1.10260e+01 1.65300e+01\n",
            " 2.55900e+01 4.42710e+01 9.99780e+01 2.03629e+02 1.71200e+03]\n",
            "\n"
          ]
        }
      ]
    },
    {
      "cell_type": "markdown",
      "source": [
        "# **Finding outliers using IQR**"
      ],
      "metadata": {
        "id": "Y-i3M8tPpzBc"
      }
    },
    {
      "cell_type": "code",
      "source": [
        "# OUTLIER CALCULATION USING IQR AND BOXPLOT\n",
        "# IMPORTING PACKAGES\n",
        "\n",
        "import pandas as pd\n",
        "import numpy as np\n",
        "\n",
        "# READING FILES\n",
        "\n",
        "path = '/content/drive/MyDrive/Colab Notebooks/Statistics in Py/food_consumption.csv'\n",
        "\n",
        "food_consumption = pd.read_csv(path)\n",
        "\n",
        "# KNOW YOUR DATA\n",
        "\n",
        "print(food_consumption.head(10))\n",
        "print()\n",
        "\n",
        "# MANIPULATING DATA\n",
        "\n",
        "# Calculate total co2_emission per country: emissions_by_country\n",
        "emissions_by_country = food_consumption.groupby('country')['co2_emission'].agg(sum)\n",
        "\n",
        "print(emissions_by_country)\n",
        "print()\n",
        "\n",
        "# Compute the first and third quartiles and IQR of emissions_by_country\n",
        "q1 = np.quantile(emissions_by_country, 0.25)\n",
        "q3 = np.quantile(emissions_by_country, 0.75)\n",
        "iqr = q3 - q1\n",
        "\n",
        "# Calculate the lower and upper cutoffs for outliers\n",
        "lower = q1 - 1.5 * iqr\n",
        "upper = q3 + 1.5 * iqr\n",
        "\n",
        "# Subset emissions_by_country to find outliers\n",
        "outliers = emissions_by_country[(emissions_by_country < lower) | (emissions_by_country > upper)]\n",
        "\n",
        "print(outliers)"
      ],
      "metadata": {
        "colab": {
          "base_uri": "https://localhost:8080/"
        },
        "id": "JZlHTbpMuo0C",
        "outputId": "f44ae714-252e-4341-b1d4-a9694d70e1c8"
      },
      "execution_count": 17,
      "outputs": [
        {
          "output_type": "stream",
          "name": "stdout",
          "text": [
            "   Unnamed: 0    country food_category  consumption  co2_emission\n",
            "0           1  Argentina          pork        10.51         37.20\n",
            "1           2  Argentina       poultry        38.66         41.53\n",
            "2           3  Argentina          beef        55.48       1712.00\n",
            "3           4  Argentina     lamb_goat         1.56         54.63\n",
            "4           5  Argentina          fish         4.36          6.96\n",
            "5           6  Argentina          eggs        11.39         10.46\n",
            "6           7  Argentina         dairy       195.08        277.87\n",
            "7           8  Argentina         wheat       103.11         19.66\n",
            "8           9  Argentina          rice         8.77         11.22\n",
            "9          10  Argentina      soybeans         0.00          0.00\n",
            "\n",
            "country\n",
            "Albania      1777.85\n",
            "Algeria       707.88\n",
            "Angola        412.99\n",
            "Argentina    2172.40\n",
            "Armenia      1109.93\n",
            "              ...   \n",
            "Uruguay      1634.91\n",
            "Venezuela    1104.10\n",
            "Vietnam       641.51\n",
            "Zambia        225.30\n",
            "Zimbabwe      350.33\n",
            "Name: co2_emission, Length: 130, dtype: float64\n",
            "\n",
            "country\n",
            "Argentina    2172.4\n",
            "Name: co2_emission, dtype: float64\n"
          ]
        },
        {
          "output_type": "stream",
          "name": "stderr",
          "text": [
            "<ipython-input-17-9e71cfd2c526>:21: FutureWarning: The provided callable <built-in function sum> is currently using SeriesGroupBy.sum. In a future version of pandas, the provided callable will be used directly. To keep current behavior pass the string \"sum\" instead.\n",
            "  emissions_by_country = food_consumption.groupby('country')['co2_emission'].agg(sum)\n"
          ]
        }
      ]
    },
    {
      "cell_type": "markdown",
      "source": [
        "# **What are the chances?**"
      ],
      "metadata": {
        "id": "HyE2sVWhyPeY"
      }
    },
    {
      "cell_type": "code",
      "source": [
        "# IMPORTING PACKAGES\n",
        "\n",
        "import pandas as pd\n",
        "import numpy as np\n",
        "\n",
        "# READING FILES\n",
        "\n",
        "path = '/content/drive/MyDrive/Colab Notebooks/Statistics in Py/amir_deals.csv'\n",
        "\n",
        "amir_deals = pd.read_csv(path)\n",
        "\n",
        "# KNOW YOUR DATA\n",
        "\n",
        "print(amir_deals.head(10))\n",
        "print()\n",
        "\n",
        "\n",
        "# MANIPULATING DATA\n",
        "\n",
        "# Count the deals for each product\n",
        "counts = amir_deals['product'].value_counts()\n",
        "print(counts)\n",
        "print()\n",
        "\n",
        "\n",
        "# Calculate probability of picking a deal with each product\n",
        "probs = counts / counts.agg(sum)\n",
        "print(probs)\n",
        "print()\n",
        "\n",
        "# Sampling deals\n",
        "\n",
        "# Set random seed\n",
        "np.random.seed(24)\n",
        "\n",
        "# Sample 5 deals without replacement\n",
        "sample_without_replacement = amir_deals.sample(5, replace = False)\n",
        "print(sample_without_replacement)\n",
        "print()\n",
        "\n",
        "# Sample 5 deals with replacement\n",
        "sample_with_replacement = amir_deals.sample(5, replace = True)\n",
        "print(sample_with_replacement)\n",
        "print()\n"
      ],
      "metadata": {
        "colab": {
          "base_uri": "https://localhost:8080/"
        },
        "id": "RbsUp6K3yRGZ",
        "outputId": "b9f349a5-db40-4675-9cfa-d6895b38a54d"
      },
      "execution_count": 28,
      "outputs": [
        {
          "output_type": "stream",
          "name": "stdout",
          "text": [
            "   Unnamed: 0    product   client status   amount  num_users\n",
            "0           1  Product F  Current    Won  7389.52         19\n",
            "1           2  Product C      New    Won  4493.01         43\n",
            "2           3  Product B      New    Won  5738.09         87\n",
            "3           4  Product I  Current    Won  2591.24         83\n",
            "4           5  Product E  Current    Won  6622.97         17\n",
            "5           6  Product B      New    Won  5496.27          2\n",
            "6           7  Product C  Current    Won  3043.13         29\n",
            "7           8  Product N  Current    Won  7340.64         13\n",
            "8           9  Product F  Current    Won  6780.85         80\n",
            "9          10  Product B  Current    Won  5237.24         23\n",
            "\n",
            "product\n",
            "Product B    62\n",
            "Product D    40\n",
            "Product A    23\n",
            "Product C    15\n",
            "Product F    11\n",
            "Product H     8\n",
            "Product I     7\n",
            "Product E     5\n",
            "Product N     3\n",
            "Product G     2\n",
            "Product J     2\n",
            "Name: count, dtype: int64\n",
            "\n",
            "product\n",
            "Product B    0.348315\n",
            "Product D    0.224719\n",
            "Product A    0.129213\n",
            "Product C    0.084270\n",
            "Product F    0.061798\n",
            "Product H    0.044944\n",
            "Product I    0.039326\n",
            "Product E    0.028090\n",
            "Product N    0.016854\n",
            "Product G    0.011236\n",
            "Product J    0.011236\n",
            "Name: count, dtype: float64\n",
            "\n",
            "     Unnamed: 0    product   client status   amount  num_users\n",
            "127         128  Product B  Current    Won  2070.25          7\n",
            "148         149  Product D  Current    Won  3485.48         52\n",
            "77           78  Product B  Current    Won  6252.30         27\n",
            "104         105  Product D  Current    Won  4110.98         39\n",
            "166         167  Product C      New   Lost  3779.86         11\n",
            "\n",
            "     Unnamed: 0    product   client status   amount  num_users\n",
            "133         134  Product D  Current    Won  5992.86         98\n",
            "101         102  Product H  Current    Won  5116.34         63\n",
            "110         111  Product B  Current    Won   696.88         44\n",
            "49           50  Product B  Current    Won  3488.36         79\n",
            "56           57  Product D  Current    Won  6820.84         42\n",
            "\n"
          ]
        },
        {
          "output_type": "stream",
          "name": "stderr",
          "text": [
            "<ipython-input-28-0ff6b77f053d>:27: FutureWarning: The provided callable <built-in function sum> is currently using Series.sum. In a future version of pandas, the provided callable will be used directly. To keep current behavior pass the string \"sum\" instead.\n",
            "  probs = counts / counts.agg(sum)\n"
          ]
        }
      ]
    },
    {
      "cell_type": "markdown",
      "source": [
        "# **Discrete distributions**"
      ],
      "metadata": {
        "id": "EP1ub-TQ97iF"
      }
    },
    {
      "cell_type": "code",
      "source": [
        "# Creating a probability distribution\n",
        "\n",
        "# IMPORTING PACKAGES\n",
        "\n",
        "import pandas as pd\n",
        "import numpy as np\n",
        "import matplotlib.pyplot as plt\n",
        "\n",
        "# READING FILES\n",
        "\n",
        "path = '/content/drive/MyDrive/Colab Notebooks/Statistics in Py/restaurant_groups.csv'\n",
        "\n",
        "restaurant_groups = pd.read_csv(path)\n",
        "\n",
        "# KNOW YOUR DATA\n",
        "\n",
        "print(restaurant_groups)\n",
        "print()\n",
        "\n",
        "# MANIPULATING DATA\n",
        "\n",
        "# Create a histogram of restaurant_groups and show plot\n",
        "restaurant_groups['group_size'].hist(bins = [2, 3, 4, 5, 6])\n",
        "plt.show()\n",
        "print()\n",
        "\n",
        "# Create probability distribution\n",
        "size_dist = restaurant_groups['group_size'].value_counts()\n",
        "# THE CALCULATION ABOVE INDICATES HOW MANY TIMES DOES A GROUP OF SIZE 2 APPEAR, OF SIZE 3, AND SO ON.\n",
        "\n",
        "# Reset index and rename columns\n",
        "size_dist = size_dist.reset_index()\n",
        "size_dist.columns = ['group_size', 'prob']\n",
        "\n",
        "print(size_dist)\n",
        "print()\n",
        "\n",
        "# CALCULATING EXPECTED VALUE OF SIZE DIST\n",
        "\n",
        "# Calculate expected value\n",
        "expected_value = np.sum(size_dist['group_size'] * size_dist['prob'])\n",
        "print(expected_value)\n",
        "\n",
        "# Subset groups of size 4 or more\n",
        "groups_4_or_more = restaurant_groups[restaurant_groups['group_size'] >= 4]\n",
        "print(groups_4_or_more)\n",
        "print()\n",
        "# SUBSET DONE SUCCESFULLY\n",
        "\n",
        "# Sum the probabilities of selecting groups_4_or_more\n",
        "prob_4_or_more =  np.sum(groups_4_or_more.groupby('group_id')['group_size'].value_counts() / restaurant_groups.shape[0])\n",
        "\n",
        "print(prob_4_or_more)\n"
      ],
      "metadata": {
        "colab": {
          "base_uri": "https://localhost:8080/",
          "height": 895
        },
        "id": "0KJsbvaj99aw",
        "outputId": "af37a63a-5db7-4e3e-e6bc-b2d2da336412"
      },
      "execution_count": 23,
      "outputs": [
        {
          "output_type": "stream",
          "name": "stdout",
          "text": [
            "  group_id  group_size\n",
            "0        A           2\n",
            "1        B           4\n",
            "2        C           6\n",
            "3        D           2\n",
            "4        E           2\n",
            "5        F           2\n",
            "6        G           3\n",
            "7        H           2\n",
            "8        I           4\n",
            "9        J           2\n",
            "\n"
          ]
        },
        {
          "output_type": "display_data",
          "data": {
            "text/plain": [
              "<Figure size 640x480 with 1 Axes>"
            ],
            "image/png": "[encoded data removed]"
          },
          "metadata": {}
        },
        {
          "output_type": "stream",
          "name": "stdout",
          "text": [
            "\n",
            "   group_size  prob\n",
            "0           2     6\n",
            "1           4     2\n",
            "2           6     1\n",
            "3           3     1\n",
            "\n",
            "29\n",
            "  group_id  group_size\n",
            "1        B           4\n",
            "2        C           6\n",
            "8        I           4\n",
            "\n",
            "0.30000000000000004\n"
          ]
        }
      ]
    },
    {
      "cell_type": "markdown",
      "source": [
        "# **Data back-ups**"
      ],
      "metadata": {
        "id": "G2onGwrGao-T"
      }
    },
    {
      "cell_type": "code",
      "source": [
        "# IMPORTING PACKAGES\n",
        "\n",
        "import pandas as pd\n",
        "import numpy as np\n",
        "\n",
        "# READING FILES\n",
        "\n",
        "path = '/content/drive/MyDrive/Colab Notebooks/Statistics in Py/amir_deals.csv'\n",
        "\n",
        "amir_deals = pd.read_csv(path)\n",
        "\n",
        "# KNOW YOUR DATA\n",
        "\n",
        "print(amir_deals.head(10))\n",
        "print()\n",
        "\n",
        "\n",
        "# MANIPULATING DATA"
      ],
      "metadata": {
        "id": "slVJrVHjaq_L"
      },
      "execution_count": null,
      "outputs": []
    }
  ]
}