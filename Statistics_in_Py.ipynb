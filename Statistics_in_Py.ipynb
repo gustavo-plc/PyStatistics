{
  "nbformat": 4,
  "nbformat_minor": 0,
  "metadata": {
    "colab": {
      "provenance": [],
      "mount_file_id": "1SgC3KOC0WotLeIc8Qnj0sLZzwhSJhnvq",
      "authorship_tag": "ABX9TyPjBk6f26YZC1rLp1b2tear",
      "include_colab_link": true
    },
    "kernelspec": {
      "name": "python3",
      "display_name": "Python 3"
    },
    "language_info": {
      "name": "python"
    }
  },
  "cells": [
    {
      "cell_type": "markdown",
      "metadata": {
        "id": "view-in-github",
        "colab_type": "text"
      },
      "source": [
        "<a href=\"https://colab.research.google.com/github/gustavo-plc/PyStatistics/blob/main/Statistics_in_Py.ipynb\" target=\"_parent\"><img src=\"https://colab.research.google.com/assets/colab-badge.svg\" alt=\"Open In Colab\"/></a>"
      ]
    },
    {
      "cell_type": "markdown",
      "source": [
        "# **Measures of center**"
      ],
      "metadata": {
        "id": "Pp5W7hF-2iTy"
      }
    },
    {
      "cell_type": "code",
      "execution_count": null,
      "metadata": {
        "id": "Wv_RXiXy1dsj"
      },
      "outputs": [],
      "source": []
    }
  ]
}