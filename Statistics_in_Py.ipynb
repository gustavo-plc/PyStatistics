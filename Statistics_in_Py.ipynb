{
  "nbformat": 4,
  "nbformat_minor": 0,
  "metadata": {
    "colab": {
      "provenance": [],
      "mount_file_id": "1SgC3KOC0WotLeIc8Qnj0sLZzwhSJhnvq",
      "authorship_tag": "ABX9TyPDK9BjUf5uE3K8rn+oq4uI",
      "include_colab_link": true
    },
    "kernelspec": {
      "name": "python3",
      "display_name": "Python 3"
    },
    "language_info": {
      "name": "python"
    }
  },
  "cells": [
    {
      "cell_type": "markdown",
      "metadata": {
        "id": "view-in-github",
        "colab_type": "text"
      },
      "source": [
        "<a href=\"https://colab.research.google.com/github/gustavo-plc/PyStatistics/blob/main/Statistics_in_Py.ipynb\" target=\"_parent\"><img src=\"https://colab.research.google.com/assets/colab-badge.svg\" alt=\"Open In Colab\"/></a>"
      ]
    },
    {
      "cell_type": "markdown",
      "source": [
        "# **Measures of center**"
      ],
      "metadata": {
        "id": "Pp5W7hF-2iTy"
      }
    },
    {
      "cell_type": "code",
      "execution_count": 14,
      "metadata": {
        "id": "Wv_RXiXy1dsj",
        "colab": {
          "base_uri": "https://localhost:8080/",
          "height": 770
        },
        "outputId": "7ed46efc-3b5c-4a92-fee2-9f650bad3e2a"
      },
      "outputs": [
        {
          "output_type": "stream",
          "name": "stdout",
          "text": [
            "   Unnamed: 0    country food_category  consumption  co2_emission\n",
            "0           1  Argentina          pork        10.51         37.20\n",
            "1           2  Argentina       poultry        38.66         41.53\n",
            "2           3  Argentina          beef        55.48       1712.00\n",
            "3           4  Argentina     lamb_goat         1.56         54.63\n",
            "4           5  Argentina          fish         4.36          6.96\n",
            "5           6  Argentina          eggs        11.39         10.46\n",
            "6           7  Argentina         dairy       195.08        277.87\n",
            "7           8  Argentina         wheat       103.11         19.66\n",
            "8           9  Argentina          rice         8.77         11.22\n",
            "9          10  Argentina      soybeans         0.00          0.00\n",
            "\n",
            "44.65\n",
            "14.58\n"
          ]
        },
        {
          "output_type": "display_data",
          "data": {
            "text/plain": [
              "<Figure size 640x480 with 1 Axes>"
            ],
            "image/png": "[encoded data removed]"
          },
          "metadata": {}
        },
        {
          "output_type": "stream",
          "name": "stdout",
          "text": [
            "\n",
            "mean      37.591615\n",
            "median    15.200000\n",
            "Name: co2_emission, dtype: float64\n",
            "\n"
          ]
        }
      ],
      "source": [
        "# Mean and median\n",
        "\n",
        "# IMPORTING PACKAGES\n",
        "\n",
        "import pandas as pd\n",
        "import numpy as np\n",
        "\n",
        "# READING FILES\n",
        "\n",
        "path = '/content/drive/MyDrive/Colab Notebooks/Statistics in Py/food_consumption.csv'\n",
        "\n",
        "food_consumption = pd.read_csv(path)\n",
        "\n",
        "# KNOW YOUR DATA\n",
        "\n",
        "print(food_consumption.head(10))\n",
        "print()\n",
        "\n",
        "# MANIPULATING DATA\n",
        "\n",
        "# Subset country for USA: usa_consumption\n",
        "usa_consumption = food_consumption[food_consumption['country'] == 'USA']\n",
        "\n",
        "# Calculate mean consumption in USA\n",
        "print(f\"{np.mean(usa_consumption['consumption']):.2f}\")\n",
        "\n",
        "# Calculate median consumption in USA\n",
        "print(np.median(usa_consumption['consumption']))\n",
        "\n",
        "# MEAN AND MEDIAN VALUES ARE QUIET DIFFERENT. WE HAVE TO UNDERSTAND BETTER THE DATA\n",
        "\n",
        "# Import matplotlib.pyplot with alias plt\n",
        "import matplotlib.pyplot as plt\n",
        "\n",
        "# Subset for food_category equals rice\n",
        "rice_consumption = food_consumption[food_consumption['food_category'] == 'rice']\n",
        "\n",
        "# Histogram of co2_emission for rice and show plot\n",
        "plt.hist(rice_consumption['co2_emission'])\n",
        "plt.show()\n",
        "print()\n",
        "\n",
        "# THE CHART SHOWS THAT DATA IS NOT EQUALY DISTRIBUTED, THAT IS WHY MEAN AND MEDIAN ARE SO DIFFERENT.\n",
        "\n",
        "# Calculate mean and median of co2_emission with .agg()\n",
        "print(rice_consumption['co2_emission'].agg(['mean', 'median']))\n",
        "print()"
      ]
    },
    {
      "cell_type": "markdown",
      "source": [
        "# **Measures of spread**"
      ],
      "metadata": {
        "id": "ui6SccGak7fD"
      }
    },
    {
      "cell_type": "code",
      "source": [
        "# Variance and standard deviation\n",
        "\n",
        "# IMPORTING PACKAGES\n",
        "\n",
        "import pandas as pd\n",
        "import numpy as np\n",
        "import matplotlib.pyplot as plt\n",
        "\n",
        "\n",
        "# READING FILES\n",
        "\n",
        "path = '/content/drive/MyDrive/Colab Notebooks/Statistics in Py/food_consumption.csv'\n",
        "\n",
        "food_consumption = pd.read_csv(path)\n",
        "\n",
        "# KNOW YOUR DATA\n",
        "\n",
        "print(food_consumption.head(10))\n",
        "print()\n",
        "\n",
        "# MANIPULATING DATA\n",
        "\n",
        "# Print variance and sd of co2_emission for each food_category\n",
        "print(food_consumption.groupby('food_category')['co2_emission'].agg(['var', 'std']))\n",
        "\n",
        "# IN THE CODE ABOVE, DATA IS GROUPED BY FOOD CATEGORY AND THEN VALUES OF VAR AND STD ARE PROVIDED TO CO2 EMISSIONS DATA FOR EACH GROUP\n",
        "\n",
        "# Create histogram of co2_emission for food_category 'beef'\n",
        "food_consumption[food_consumption['food_category'] == 'beef']['co2_emission'].hist()\n",
        "plt.show()\n",
        "\n",
        "# Create histogram of co2_emission for food_category 'eggs'\n",
        "food_consumption[food_consumption['food_category'] == 'eggs']['co2_emission'].hist()\n",
        "plt.show()\n",
        "\n",
        "# THE DISTRIBUTION PLOT SHOWS THAT DATA FROM BEEF IS SKEWED WHILE THE DATA FROM EGGS IS BETTER SPREAD."
      ],
      "metadata": {
        "colab": {
          "base_uri": "https://localhost:8080/",
          "height": 1000
        },
        "id": "Lwbq0ryNswcB",
        "outputId": "73caf434-80c1-4043-fabc-f810d9d7e942"
      },
      "execution_count": 1,
      "outputs": [
        {
          "output_type": "stream",
          "name": "stdout",
          "text": [
            "   Unnamed: 0    country food_category  consumption  co2_emission\n",
            "0           1  Argentina          pork        10.51         37.20\n",
            "1           2  Argentina       poultry        38.66         41.53\n",
            "2           3  Argentina          beef        55.48       1712.00\n",
            "3           4  Argentina     lamb_goat         1.56         54.63\n",
            "4           5  Argentina          fish         4.36          6.96\n",
            "5           6  Argentina          eggs        11.39         10.46\n",
            "6           7  Argentina         dairy       195.08        277.87\n",
            "7           8  Argentina         wheat       103.11         19.66\n",
            "8           9  Argentina          rice         8.77         11.22\n",
            "9          10  Argentina      soybeans         0.00          0.00\n",
            "\n",
            "                        var         std\n",
            "food_category                          \n",
            "beef           88748.408132  297.906710\n",
            "dairy          17671.891985  132.935669\n",
            "eggs              21.371819    4.622966\n",
            "fish             921.637349   30.358481\n",
            "lamb_goat      16475.518363  128.356996\n",
            "nuts              35.639652    5.969895\n",
            "pork            3094.963537   55.632396\n",
            "poultry          245.026801   15.653332\n",
            "rice            2281.376243   47.763754\n",
            "soybeans           0.879882    0.938020\n",
            "wheat             71.023937    8.427570\n"
          ]
        },
        {
          "output_type": "display_data",
          "data": {
            "text/plain": [
              "<Figure size 640x480 with 1 Axes>"
            ],
            "image/png": "[encoded data removed]"
          },
          "metadata": {}
        },
        {
          "output_type": "display_data",
          "data": {
            "text/plain": [
              "<Figure size 640x480 with 1 Axes>"
            ],
            "image/png": "[encoded data removed]"
          },
          "metadata": {}
        }
      ]
    },
    {
      "cell_type": "markdown",
      "source": [
        "# **Quartiles, quantiles, and quintiles**"
      ],
      "metadata": {
        "id": "adze_UIn5SoS"
      }
    },
    {
      "cell_type": "code",
      "source": [
        "# IMPORTING PACKAGES\n",
        "\n",
        "import pandas as pd\n",
        "import numpy as np\n",
        "\n",
        "# READING FILES\n",
        "\n",
        "path = '/content/drive/MyDrive/Colab Notebooks/Statistics in Py/food_consumption.csv'\n",
        "\n",
        "food_consumption = pd.read_csv(path)\n",
        "\n",
        "# KNOW YOUR DATA\n",
        "\n",
        "print(food_consumption.head(10))\n",
        "print()\n",
        "\n",
        "# MANIPULATING DATA\n",
        "\n",
        "# QUARTILES SPLIT THE DATASET INTO 4 PIECES\n",
        "\n",
        "# Calculate the quartiles of co2_emission\n",
        "print(np.quantile(food_consumption['co2_emission'], [0, 0.25, 0.5, 0.75, 1]))\n",
        "print()\n",
        "# [   0.        5.21     16.53     62.5975 1712.    ]\n",
        "# THE RESULT SHOWS THAT 25% OF THE DATA IS BELOW 5.21\n",
        "# HALF OF DATA IS BELOW AND ALSO ABOVE 16.53, WHICH IS ALSO THE MEDIAN\n",
        "\n",
        "print(np.median(food_consumption['co2_emission']))\n",
        "print()\n",
        "\n",
        "# Calculate the quintiles of co2_emission\n",
        "print(np.quantile(food_consumption['co2_emission'], [0, 0.2, 0.4, 0.6, 0.8, 1]))\n",
        "print()\n",
        "\n",
        "# Calculate the deciles of co2_emission\n",
        "print(np.quantile(food_consumption['co2_emission'], [0, 0.1, 0.2, 0.3, 0.4,\n",
        "                                                     0.5, 0.6, 0.7, 0.8,\n",
        "                                                     0.9, 1]))\n",
        "print()"
      ],
      "metadata": {
        "colab": {
          "base_uri": "https://localhost:8080/"
        },
        "id": "kt85_q0o5XfH",
        "outputId": "fb1ab11c-181e-4732-a481-ee5a309093de"
      },
      "execution_count": 9,
      "outputs": [
        {
          "output_type": "stream",
          "name": "stdout",
          "text": [
            "   Unnamed: 0    country food_category  consumption  co2_emission\n",
            "0           1  Argentina          pork        10.51         37.20\n",
            "1           2  Argentina       poultry        38.66         41.53\n",
            "2           3  Argentina          beef        55.48       1712.00\n",
            "3           4  Argentina     lamb_goat         1.56         54.63\n",
            "4           5  Argentina          fish         4.36          6.96\n",
            "5           6  Argentina          eggs        11.39         10.46\n",
            "6           7  Argentina         dairy       195.08        277.87\n",
            "7           8  Argentina         wheat       103.11         19.66\n",
            "8           9  Argentina          rice         8.77         11.22\n",
            "9          10  Argentina      soybeans         0.00          0.00\n",
            "\n",
            "[   0.        5.21     16.53     62.5975 1712.    ]\n",
            "\n",
            "16.53\n",
            "\n",
            "[   0.       3.54    11.026   25.59    99.978 1712.   ]\n",
            "\n",
            "[0.00000e+00 6.68000e-01 3.54000e+00 7.04000e+00 1.10260e+01 1.65300e+01\n",
            " 2.55900e+01 4.42710e+01 9.99780e+01 2.03629e+02 1.71200e+03]\n",
            "\n"
          ]
        }
      ]
    },
    {
      "cell_type": "markdown",
      "source": [
        "# **Finding outliers using IQR**"
      ],
      "metadata": {
        "id": "Y-i3M8tPpzBc"
      }
    },
    {
      "cell_type": "code",
      "source": [
        "# OUTLIER CALCULATION USING IQR AND BOXPLOT\n",
        "# IMPORTING PACKAGES\n",
        "\n",
        "import pandas as pd\n",
        "import numpy as np\n",
        "\n",
        "# READING FILES\n",
        "\n",
        "path = '/content/drive/MyDrive/Colab Notebooks/Statistics in Py/food_consumption.csv'\n",
        "\n",
        "food_consumption = pd.read_csv(path)\n",
        "\n",
        "# KNOW YOUR DATA\n",
        "\n",
        "print(food_consumption.head(10))\n",
        "print()\n",
        "\n",
        "# MANIPULATING DATA\n",
        "\n",
        "# Calculate total co2_emission per country: emissions_by_country\n",
        "emissions_by_country = food_consumption.groupby('country')['co2_emission'].agg(sum)\n",
        "\n",
        "print(emissions_by_country)\n",
        "\n",
        "# Compute the first and third quartiles and IQR of emissions_by_country\n",
        "q1 = np.quantile(emissions_by_country, 0.25)\n",
        "q3 = np.quantile(emissions_by_country, 0.75)\n",
        "iqr = q3 - q1\n",
        "\n",
        "# Calculate the lower and upper cutoffs for outliers\n",
        "lower = ____\n",
        "upper = ____"
      ],
      "metadata": {
        "colab": {
          "base_uri": "https://localhost:8080/"
        },
        "id": "JZlHTbpMuo0C",
        "outputId": "ea4777b3-7289-41e3-b842-bfa97683eacb"
      },
      "execution_count": 10,
      "outputs": [
        {
          "output_type": "stream",
          "name": "stdout",
          "text": [
            "   Unnamed: 0    country food_category  consumption  co2_emission\n",
            "0           1  Argentina          pork        10.51         37.20\n",
            "1           2  Argentina       poultry        38.66         41.53\n",
            "2           3  Argentina          beef        55.48       1712.00\n",
            "3           4  Argentina     lamb_goat         1.56         54.63\n",
            "4           5  Argentina          fish         4.36          6.96\n",
            "5           6  Argentina          eggs        11.39         10.46\n",
            "6           7  Argentina         dairy       195.08        277.87\n",
            "7           8  Argentina         wheat       103.11         19.66\n",
            "8           9  Argentina          rice         8.77         11.22\n",
            "9          10  Argentina      soybeans         0.00          0.00\n",
            "\n",
            "country\n",
            "Albania      1777.85\n",
            "Algeria       707.88\n",
            "Angola        412.99\n",
            "Argentina    2172.40\n",
            "Armenia      1109.93\n",
            "              ...   \n",
            "Uruguay      1634.91\n",
            "Venezuela    1104.10\n",
            "Vietnam       641.51\n",
            "Zambia        225.30\n",
            "Zimbabwe      350.33\n",
            "Name: co2_emission, Length: 130, dtype: float64\n"
          ]
        },
        {
          "output_type": "stream",
          "name": "stderr",
          "text": [
            "<ipython-input-10-8b3c722e09bb>:20: FutureWarning: The provided callable <built-in function sum> is currently using SeriesGroupBy.sum. In a future version of pandas, the provided callable will be used directly. To keep current behavior pass the string \"sum\" instead.\n",
            "  emissions_by_country = food_consumption.groupby('country')['co2_emission'].agg(sum)\n"
          ]
        }
      ]
    }
  ]
}