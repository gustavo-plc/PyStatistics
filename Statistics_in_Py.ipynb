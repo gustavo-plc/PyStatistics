{
  "nbformat": 4,
  "nbformat_minor": 0,
  "metadata": {
    "colab": {
      "provenance": [],
      "mount_file_id": "1SgC3KOC0WotLeIc8Qnj0sLZzwhSJhnvq",
      "authorship_tag": "ABX9TyO102gi+6AEhDoiSy4WAM4/",
      "include_colab_link": true
    },
    "kernelspec": {
      "name": "python3",
      "display_name": "Python 3"
    },
    "language_info": {
      "name": "python"
    }
  },
  "cells": [
    {
      "cell_type": "markdown",
      "metadata": {
        "id": "view-in-github",
        "colab_type": "text"
      },
      "source": [
        "<a href=\"https://colab.research.google.com/github/gustavo-plc/PyStatistics/blob/main/Statistics_in_Py.ipynb\" target=\"_parent\"><img src=\"https://colab.research.google.com/assets/colab-badge.svg\" alt=\"Open In Colab\"/></a>"
      ]
    },
    {
      "cell_type": "markdown",
      "source": [
        "# **Measures of center**"
      ],
      "metadata": {
        "id": "Pp5W7hF-2iTy"
      }
    },
    {
      "cell_type": "code",
      "execution_count": null,
      "metadata": {
        "id": "Wv_RXiXy1dsj",
        "colab": {
          "base_uri": "https://localhost:8080/",
          "height": 770
        },
        "outputId": "7ed46efc-3b5c-4a92-fee2-9f650bad3e2a"
      },
      "outputs": [
        {
          "output_type": "stream",
          "name": "stdout",
          "text": [
            "   Unnamed: 0    country food_category  consumption  co2_emission\n",
            "0           1  Argentina          pork        10.51         37.20\n",
            "1           2  Argentina       poultry        38.66         41.53\n",
            "2           3  Argentina          beef        55.48       1712.00\n",
            "3           4  Argentina     lamb_goat         1.56         54.63\n",
            "4           5  Argentina          fish         4.36          6.96\n",
            "5           6  Argentina          eggs        11.39         10.46\n",
            "6           7  Argentina         dairy       195.08        277.87\n",
            "7           8  Argentina         wheat       103.11         19.66\n",
            "8           9  Argentina          rice         8.77         11.22\n",
            "9          10  Argentina      soybeans         0.00          0.00\n",
            "\n",
            "44.65\n",
            "14.58\n"
          ]
        },
        {
          "output_type": "display_data",
          "data": {
            "text/plain": [
              "<Figure size 640x480 with 1 Axes>"
            ],
            "image/png": "[encoded data removed]"
          },
          "metadata": {}
        },
        {
          "output_type": "stream",
          "name": "stdout",
          "text": [
            "\n",
            "mean      37.591615\n",
            "median    15.200000\n",
            "Name: co2_emission, dtype: float64\n",
            "\n"
          ]
        }
      ],
      "source": [
        "# Mean and median\n",
        "\n",
        "# IMPORTING PACKAGES\n",
        "\n",
        "import pandas as pd\n",
        "import numpy as np\n",
        "\n",
        "# READING FILES\n",
        "\n",
        "path = '/content/drive/MyDrive/Colab Notebooks/Statistics in Py/food_consumption.csv'\n",
        "\n",
        "food_consumption = pd.read_csv(path)\n",
        "\n",
        "# KNOW YOUR DATA\n",
        "\n",
        "print(food_consumption.head(10))\n",
        "print()\n",
        "\n",
        "# MANIPULATING DATA\n",
        "\n",
        "# Subset country for USA: usa_consumption\n",
        "usa_consumption = food_consumption[food_consumption['country'] == 'USA']\n",
        "\n",
        "# Calculate mean consumption in USA\n",
        "print(f\"{np.mean(usa_consumption['consumption']):.2f}\")\n",
        "\n",
        "# Calculate median consumption in USA\n",
        "print(np.median(usa_consumption['consumption']))\n",
        "\n",
        "# MEAN AND MEDIAN VALUES ARE QUIET DIFFERENT. WE HAVE TO UNDERSTAND BETTER THE DATA\n",
        "\n",
        "# Import matplotlib.pyplot with alias plt\n",
        "import matplotlib.pyplot as plt\n",
        "\n",
        "# Subset for food_category equals rice\n",
        "rice_consumption = food_consumption[food_consumption['food_category'] == 'rice']\n",
        "\n",
        "# Histogram of co2_emission for rice and show plot\n",
        "plt.hist(rice_consumption['co2_emission'])\n",
        "plt.show()\n",
        "print()\n",
        "\n",
        "# THE CHART SHOWS THAT DATA IS NOT EQUALY DISTRIBUTED, THAT IS WHY MEAN AND MEDIAN ARE SO DIFFERENT.\n",
        "\n",
        "# Calculate mean and median of co2_emission with .agg()\n",
        "print(rice_consumption['co2_emission'].agg(['mean', 'median']))\n",
        "print()"
      ]
    },
    {
      "cell_type": "markdown",
      "source": [
        "# **Measures of spread**"
      ],
      "metadata": {
        "id": "ui6SccGak7fD"
      }
    },
    {
      "cell_type": "code",
      "source": [
        "# Variance and standard deviation\n",
        "\n",
        "# IMPORTING PACKAGES\n",
        "\n",
        "import pandas as pd\n",
        "import numpy as np\n",
        "import matplotlib.pyplot as plt\n",
        "\n",
        "\n",
        "# READING FILES\n",
        "\n",
        "path = '/content/drive/MyDrive/Colab Notebooks/Statistics in Py/food_consumption.csv'\n",
        "\n",
        "food_consumption = pd.read_csv(path)\n",
        "\n",
        "# KNOW YOUR DATA\n",
        "\n",
        "print(food_consumption.head(10))\n",
        "print()\n",
        "\n",
        "# MANIPULATING DATA\n",
        "\n",
        "# Print variance and sd of co2_emission for each food_category\n",
        "print(food_consumption.groupby('food_category')['co2_emission'].agg(['var', 'std']))\n",
        "\n",
        "# IN THE CODE ABOVE, DATA IS GROUPED BY FOOD CATEGORY AND THEN VALUES OF VAR AND STD ARE PROVIDED TO CO2 EMISSIONS DATA FOR EACH GROUP\n",
        "\n",
        "# Create histogram of co2_emission for food_category 'beef'\n",
        "food_consumption[food_consumption['food_category'] == 'beef']['co2_emission'].hist()\n",
        "plt.show()\n",
        "\n",
        "# Create histogram of co2_emission for food_category 'eggs'\n",
        "food_consumption[food_consumption['food_category'] == 'eggs']['co2_emission'].hist()\n",
        "plt.show()\n",
        "\n",
        "# THE DISTRIBUTION PLOT SHOWS THAT DATA FROM BEEF IS SKEWED WHILE THE DATA FROM EGGS IS BETTER SPREAD."
      ],
      "metadata": {
        "colab": {
          "base_uri": "https://localhost:8080/",
          "height": 1000
        },
        "id": "Lwbq0ryNswcB",
        "outputId": "73caf434-80c1-4043-fabc-f810d9d7e942"
      },
      "execution_count": null,
      "outputs": [
        {
          "output_type": "stream",
          "name": "stdout",
          "text": [
            "   Unnamed: 0    country food_category  consumption  co2_emission\n",
            "0           1  Argentina          pork        10.51         37.20\n",
            "1           2  Argentina       poultry        38.66         41.53\n",
            "2           3  Argentina          beef        55.48       1712.00\n",
            "3           4  Argentina     lamb_goat         1.56         54.63\n",
            "4           5  Argentina          fish         4.36          6.96\n",
            "5           6  Argentina          eggs        11.39         10.46\n",
            "6           7  Argentina         dairy       195.08        277.87\n",
            "7           8  Argentina         wheat       103.11         19.66\n",
            "8           9  Argentina          rice         8.77         11.22\n",
            "9          10  Argentina      soybeans         0.00          0.00\n",
            "\n",
            "                        var         std\n",
            "food_category                          \n",
            "beef           88748.408132  297.906710\n",
            "dairy          17671.891985  132.935669\n",
            "eggs              21.371819    4.622966\n",
            "fish             921.637349   30.358481\n",
            "lamb_goat      16475.518363  128.356996\n",
            "nuts              35.639652    5.969895\n",
            "pork            3094.963537   55.632396\n",
            "poultry          245.026801   15.653332\n",
            "rice            2281.376243   47.763754\n",
            "soybeans           0.879882    0.938020\n",
            "wheat             71.023937    8.427570\n"
          ]
        },
        {
          "output_type": "display_data",
          "data": {
            "text/plain": [
              "<Figure size 640x480 with 1 Axes>"
            ],
            "image/png": "[encoded data removed]"
          },
          "metadata": {}
        },
        {
          "output_type": "display_data",
          "data": {
            "text/plain": [
              "<Figure size 640x480 with 1 Axes>"
            ],
            "image/png": "[encoded data removed]"
          },
          "metadata": {}
        }
      ]
    },
    {
      "cell_type": "markdown",
      "source": [
        "# **Quartiles, quantiles, and quintiles**"
      ],
      "metadata": {
        "id": "adze_UIn5SoS"
      }
    },
    {
      "cell_type": "code",
      "source": [
        "# IMPORTING PACKAGES\n",
        "\n",
        "import pandas as pd\n",
        "import numpy as np\n",
        "\n",
        "# READING FILES\n",
        "\n",
        "path = '/content/drive/MyDrive/Colab Notebooks/Statistics in Py/food_consumption.csv'\n",
        "\n",
        "food_consumption = pd.read_csv(path)\n",
        "\n",
        "# KNOW YOUR DATA\n",
        "\n",
        "print(food_consumption.head(10))\n",
        "print()\n",
        "\n",
        "# MANIPULATING DATA\n",
        "\n",
        "# QUARTILES SPLIT THE DATASET INTO 4 PIECES\n",
        "\n",
        "# Calculate the quartiles of co2_emission\n",
        "print(np.quantile(food_consumption['co2_emission'], [0, 0.25, 0.5, 0.75, 1]))\n",
        "print()\n",
        "# [   0.        5.21     16.53     62.5975 1712.    ]\n",
        "# THE RESULT SHOWS THAT 25% OF THE DATA IS BELOW 5.21\n",
        "# HALF OF DATA IS BELOW AND ALSO ABOVE 16.53, WHICH IS ALSO THE MEDIAN\n",
        "\n",
        "print(np.median(food_consumption['co2_emission']))\n",
        "print()\n",
        "\n",
        "# Calculate the quintiles of co2_emission\n",
        "print(np.quantile(food_consumption['co2_emission'], [0, 0.2, 0.4, 0.6, 0.8, 1]))\n",
        "print()\n",
        "\n",
        "# Calculate the deciles of co2_emission\n",
        "print(np.quantile(food_consumption['co2_emission'], [0, 0.1, 0.2, 0.3, 0.4,\n",
        "                                                     0.5, 0.6, 0.7, 0.8,\n",
        "                                                     0.9, 1]))\n",
        "print()"
      ],
      "metadata": {
        "colab": {
          "base_uri": "https://localhost:8080/"
        },
        "id": "kt85_q0o5XfH",
        "outputId": "fb1ab11c-181e-4732-a481-ee5a309093de"
      },
      "execution_count": null,
      "outputs": [
        {
          "output_type": "stream",
          "name": "stdout",
          "text": [
            "   Unnamed: 0    country food_category  consumption  co2_emission\n",
            "0           1  Argentina          pork        10.51         37.20\n",
            "1           2  Argentina       poultry        38.66         41.53\n",
            "2           3  Argentina          beef        55.48       1712.00\n",
            "3           4  Argentina     lamb_goat         1.56         54.63\n",
            "4           5  Argentina          fish         4.36          6.96\n",
            "5           6  Argentina          eggs        11.39         10.46\n",
            "6           7  Argentina         dairy       195.08        277.87\n",
            "7           8  Argentina         wheat       103.11         19.66\n",
            "8           9  Argentina          rice         8.77         11.22\n",
            "9          10  Argentina      soybeans         0.00          0.00\n",
            "\n",
            "[   0.        5.21     16.53     62.5975 1712.    ]\n",
            "\n",
            "16.53\n",
            "\n",
            "[   0.       3.54    11.026   25.59    99.978 1712.   ]\n",
            "\n",
            "[0.00000e+00 6.68000e-01 3.54000e+00 7.04000e+00 1.10260e+01 1.65300e+01\n",
            " 2.55900e+01 4.42710e+01 9.99780e+01 2.03629e+02 1.71200e+03]\n",
            "\n"
          ]
        }
      ]
    },
    {
      "cell_type": "markdown",
      "source": [
        "# **Finding outliers using IQR**"
      ],
      "metadata": {
        "id": "Y-i3M8tPpzBc"
      }
    },
    {
      "cell_type": "code",
      "source": [
        "# OUTLIER CALCULATION USING IQR AND BOXPLOT\n",
        "# IMPORTING PACKAGES\n",
        "\n",
        "import pandas as pd\n",
        "import numpy as np\n",
        "\n",
        "# READING FILES\n",
        "\n",
        "path = '/content/drive/MyDrive/Colab Notebooks/Statistics in Py/food_consumption.csv'\n",
        "\n",
        "food_consumption = pd.read_csv(path)\n",
        "\n",
        "# KNOW YOUR DATA\n",
        "\n",
        "print(food_consumption.head(10))\n",
        "print()\n",
        "\n",
        "# MANIPULATING DATA\n",
        "\n",
        "# Calculate total co2_emission per country: emissions_by_country\n",
        "emissions_by_country = food_consumption.groupby('country')['co2_emission'].agg(sum)\n",
        "\n",
        "print(emissions_by_country)\n",
        "print()\n",
        "\n",
        "# Compute the first and third quartiles and IQR of emissions_by_country\n",
        "q1 = np.quantile(emissions_by_country, 0.25)\n",
        "q3 = np.quantile(emissions_by_country, 0.75)\n",
        "iqr = q3 - q1\n",
        "\n",
        "# Calculate the lower and upper cutoffs for outliers\n",
        "lower = q1 - 1.5 * iqr\n",
        "upper = q3 + 1.5 * iqr\n",
        "\n",
        "# Subset emissions_by_country to find outliers\n",
        "outliers = emissions_by_country[(emissions_by_country < lower) | (emissions_by_country > upper)]\n",
        "\n",
        "print(outliers)"
      ],
      "metadata": {
        "colab": {
          "base_uri": "https://localhost:8080/"
        },
        "id": "JZlHTbpMuo0C",
        "outputId": "f44ae714-252e-4341-b1d4-a9694d70e1c8"
      },
      "execution_count": null,
      "outputs": [
        {
          "output_type": "stream",
          "name": "stdout",
          "text": [
            "   Unnamed: 0    country food_category  consumption  co2_emission\n",
            "0           1  Argentina          pork        10.51         37.20\n",
            "1           2  Argentina       poultry        38.66         41.53\n",
            "2           3  Argentina          beef        55.48       1712.00\n",
            "3           4  Argentina     lamb_goat         1.56         54.63\n",
            "4           5  Argentina          fish         4.36          6.96\n",
            "5           6  Argentina          eggs        11.39         10.46\n",
            "6           7  Argentina         dairy       195.08        277.87\n",
            "7           8  Argentina         wheat       103.11         19.66\n",
            "8           9  Argentina          rice         8.77         11.22\n",
            "9          10  Argentina      soybeans         0.00          0.00\n",
            "\n",
            "country\n",
            "Albania      1777.85\n",
            "Algeria       707.88\n",
            "Angola        412.99\n",
            "Argentina    2172.40\n",
            "Armenia      1109.93\n",
            "              ...   \n",
            "Uruguay      1634.91\n",
            "Venezuela    1104.10\n",
            "Vietnam       641.51\n",
            "Zambia        225.30\n",
            "Zimbabwe      350.33\n",
            "Name: co2_emission, Length: 130, dtype: float64\n",
            "\n",
            "country\n",
            "Argentina    2172.4\n",
            "Name: co2_emission, dtype: float64\n"
          ]
        },
        {
          "output_type": "stream",
          "name": "stderr",
          "text": [
            "<ipython-input-17-9e71cfd2c526>:21: FutureWarning: The provided callable <built-in function sum> is currently using SeriesGroupBy.sum. In a future version of pandas, the provided callable will be used directly. To keep current behavior pass the string \"sum\" instead.\n",
            "  emissions_by_country = food_consumption.groupby('country')['co2_emission'].agg(sum)\n"
          ]
        }
      ]
    },
    {
      "cell_type": "markdown",
      "source": [
        "# **What are the chances?**"
      ],
      "metadata": {
        "id": "HyE2sVWhyPeY"
      }
    },
    {
      "cell_type": "code",
      "source": [
        "# IMPORTING PACKAGES\n",
        "\n",
        "import pandas as pd\n",
        "import numpy as np\n",
        "\n",
        "# READING FILES\n",
        "\n",
        "path = '/content/drive/MyDrive/Colab Notebooks/Statistics in Py/amir_deals.csv'\n",
        "\n",
        "amir_deals = pd.read_csv(path)\n",
        "\n",
        "# KNOW YOUR DATA\n",
        "\n",
        "print(amir_deals.head(10))\n",
        "print()\n",
        "\n",
        "\n",
        "# MANIPULATING DATA\n",
        "\n",
        "# Count the deals for each product\n",
        "counts = amir_deals['product'].value_counts()\n",
        "print(counts)\n",
        "print()\n",
        "\n",
        "\n",
        "# Calculate probability of picking a deal with each product\n",
        "probs = counts / counts.agg(sum)\n",
        "print(probs)\n",
        "print()\n",
        "\n",
        "# Sampling deals\n",
        "\n",
        "# Set random seed\n",
        "np.random.seed(24)\n",
        "\n",
        "# Sample 5 deals without replacement\n",
        "sample_without_replacement = amir_deals.sample(5, replace = False)\n",
        "print(sample_without_replacement)\n",
        "print()\n",
        "\n",
        "# Sample 5 deals with replacement\n",
        "sample_with_replacement = amir_deals.sample(5, replace = True)\n",
        "print(sample_with_replacement)\n",
        "print()\n"
      ],
      "metadata": {
        "colab": {
          "base_uri": "https://localhost:8080/"
        },
        "id": "RbsUp6K3yRGZ",
        "outputId": "b9f349a5-db40-4675-9cfa-d6895b38a54d"
      },
      "execution_count": null,
      "outputs": [
        {
          "output_type": "stream",
          "name": "stdout",
          "text": [
            "   Unnamed: 0    product   client status   amount  num_users\n",
            "0           1  Product F  Current    Won  7389.52         19\n",
            "1           2  Product C      New    Won  4493.01         43\n",
            "2           3  Product B      New    Won  5738.09         87\n",
            "3           4  Product I  Current    Won  2591.24         83\n",
            "4           5  Product E  Current    Won  6622.97         17\n",
            "5           6  Product B      New    Won  5496.27          2\n",
            "6           7  Product C  Current    Won  3043.13         29\n",
            "7           8  Product N  Current    Won  7340.64         13\n",
            "8           9  Product F  Current    Won  6780.85         80\n",
            "9          10  Product B  Current    Won  5237.24         23\n",
            "\n",
            "product\n",
            "Product B    62\n",
            "Product D    40\n",
            "Product A    23\n",
            "Product C    15\n",
            "Product F    11\n",
            "Product H     8\n",
            "Product I     7\n",
            "Product E     5\n",
            "Product N     3\n",
            "Product G     2\n",
            "Product J     2\n",
            "Name: count, dtype: int64\n",
            "\n",
            "product\n",
            "Product B    0.348315\n",
            "Product D    0.224719\n",
            "Product A    0.129213\n",
            "Product C    0.084270\n",
            "Product F    0.061798\n",
            "Product H    0.044944\n",
            "Product I    0.039326\n",
            "Product E    0.028090\n",
            "Product N    0.016854\n",
            "Product G    0.011236\n",
            "Product J    0.011236\n",
            "Name: count, dtype: float64\n",
            "\n",
            "     Unnamed: 0    product   client status   amount  num_users\n",
            "127         128  Product B  Current    Won  2070.25          7\n",
            "148         149  Product D  Current    Won  3485.48         52\n",
            "77           78  Product B  Current    Won  6252.30         27\n",
            "104         105  Product D  Current    Won  4110.98         39\n",
            "166         167  Product C      New   Lost  3779.86         11\n",
            "\n",
            "     Unnamed: 0    product   client status   amount  num_users\n",
            "133         134  Product D  Current    Won  5992.86         98\n",
            "101         102  Product H  Current    Won  5116.34         63\n",
            "110         111  Product B  Current    Won   696.88         44\n",
            "49           50  Product B  Current    Won  3488.36         79\n",
            "56           57  Product D  Current    Won  6820.84         42\n",
            "\n"
          ]
        },
        {
          "output_type": "stream",
          "name": "stderr",
          "text": [
            "<ipython-input-28-0ff6b77f053d>:27: FutureWarning: The provided callable <built-in function sum> is currently using Series.sum. In a future version of pandas, the provided callable will be used directly. To keep current behavior pass the string \"sum\" instead.\n",
            "  probs = counts / counts.agg(sum)\n"
          ]
        }
      ]
    },
    {
      "cell_type": "markdown",
      "source": [
        "# **Discrete distributions**"
      ],
      "metadata": {
        "id": "EP1ub-TQ97iF"
      }
    },
    {
      "cell_type": "code",
      "source": [
        "# Creating a probability distribution\n",
        "\n",
        "# IMPORTING PACKAGES\n",
        "\n",
        "import pandas as pd\n",
        "import numpy as np\n",
        "import matplotlib.pyplot as plt\n",
        "\n",
        "# READING FILES\n",
        "\n",
        "path = '/content/drive/MyDrive/Colab Notebooks/Statistics in Py/restaurant_groups.csv'\n",
        "\n",
        "restaurant_groups = pd.read_csv(path)\n",
        "\n",
        "# KNOW YOUR DATA\n",
        "\n",
        "print(restaurant_groups)\n",
        "print()\n",
        "\n",
        "# MANIPULATING DATA\n",
        "\n",
        "# Create a histogram of restaurant_groups and show plot\n",
        "restaurant_groups['group_size'].hist(bins = [2, 3, 4, 5, 6])\n",
        "plt.show()\n",
        "print()\n",
        "\n",
        "# Create probability distribution\n",
        "size_dist = restaurant_groups['group_size'].value_counts()\n",
        "# THE CALCULATION ABOVE INDICATES HOW MANY TIMES DOES A GROUP OF SIZE 2 APPEAR, OF SIZE 3, AND SO ON.\n",
        "\n",
        "# Reset index and rename columns\n",
        "size_dist = size_dist.reset_index()\n",
        "size_dist.columns = ['group_size', 'prob']\n",
        "\n",
        "print(size_dist)\n",
        "print()\n",
        "\n",
        "# CALCULATING EXPECTED VALUE OF SIZE DIST\n",
        "\n",
        "# Calculate expected value\n",
        "expected_value = np.sum(size_dist['group_size'] * size_dist['prob'])\n",
        "print(expected_value)\n",
        "\n",
        "# Subset groups of size 4 or more\n",
        "groups_4_or_more = restaurant_groups[restaurant_groups['group_size'] >= 4]\n",
        "print(groups_4_or_more)\n",
        "print()\n",
        "# SUBSET DONE SUCCESFULLY\n",
        "\n",
        "# Sum the probabilities of selecting groups_4_or_more\n",
        "prob_4_or_more =  np.sum(groups_4_or_more.groupby('group_id')['group_size'].value_counts() / restaurant_groups.shape[0])\n",
        "\n",
        "print(prob_4_or_more)\n"
      ],
      "metadata": {
        "colab": {
          "base_uri": "https://localhost:8080/",
          "height": 895
        },
        "id": "0KJsbvaj99aw",
        "outputId": "af37a63a-5db7-4e3e-e6bc-b2d2da336412"
      },
      "execution_count": null,
      "outputs": [
        {
          "output_type": "stream",
          "name": "stdout",
          "text": [
            "  group_id  group_size\n",
            "0        A           2\n",
            "1        B           4\n",
            "2        C           6\n",
            "3        D           2\n",
            "4        E           2\n",
            "5        F           2\n",
            "6        G           3\n",
            "7        H           2\n",
            "8        I           4\n",
            "9        J           2\n",
            "\n"
          ]
        },
        {
          "output_type": "display_data",
          "data": {
            "text/plain": [
              "<Figure size 640x480 with 1 Axes>"
            ],
            "image/png": "[encoded data removed]"
          },
          "metadata": {}
        },
        {
          "output_type": "stream",
          "name": "stdout",
          "text": [
            "\n",
            "   group_size  prob\n",
            "0           2     6\n",
            "1           4     2\n",
            "2           6     1\n",
            "3           3     1\n",
            "\n",
            "29\n",
            "  group_id  group_size\n",
            "1        B           4\n",
            "2        C           6\n",
            "8        I           4\n",
            "\n",
            "0.30000000000000004\n"
          ]
        }
      ]
    },
    {
      "cell_type": "markdown",
      "source": [
        "# **Data back-ups**"
      ],
      "metadata": {
        "id": "G2onGwrGao-T"
      }
    },
    {
      "cell_type": "code",
      "source": [
        "# IMPORTING PACKAGES\n",
        "\n",
        "import pandas as pd\n",
        "import numpy as np\n",
        "from scipy.stats import uniform\n",
        "\n",
        "# Min and max wait times for back-up that happens every 30 min\n",
        "min_time = 0\n",
        "\n",
        "max_time = 30\n",
        "\n",
        "# MANIPULATING DATA\n",
        "\n",
        "# Calculate probability of waiting less than 5 mins\n",
        "prob_less_than_5 = uniform.cdf(5, min_time, max_time)\n",
        "print(prob_less_than_5)\n",
        "print()\n",
        "\n",
        "# Calculate probability of waiting more than 5 mins\n",
        "prob_greater_than_5 = 1 - prob_less_than_5\n",
        "print(prob_greater_than_5)\n",
        "print()\n",
        "\n",
        "# Calculate probability of waiting 10-20 mins\n",
        "prob_between_10_and_20 = uniform.cdf(20, 0, 30) - uniform.cdf(10, 0, 30)\n",
        "print(prob_between_10_and_20)\n",
        "print()\n",
        "\n",
        "# Simulating wait times\n",
        "\n",
        "\n",
        "# Set random seed to 334\n",
        "np.random.seed(334)\n",
        "\n",
        "# Generate 1000 wait times between 0 and 30 mins\n",
        "wait_times = uniform.rvs(0, 30, size = 1000)\n",
        "# THE CODE ABOVE SIMULATES THE WAIT TIME 1000 TIMES\n",
        "\n",
        "print(wait_times)\n",
        "print()\n",
        "\n",
        "# Create a histogram of simulated times and show plot\n",
        "plt.hist(wait_times)\n",
        "plt.show()\n",
        "\n"
      ],
      "metadata": {
        "colab": {
          "base_uri": "https://localhost:8080/",
          "height": 1000
        },
        "id": "slVJrVHjaq_L",
        "outputId": "3b2308ae-3577-4fa2-edf0-68867e7d21a3"
      },
      "execution_count": null,
      "outputs": [
        {
          "output_type": "stream",
          "name": "stdout",
          "text": [
            "0.16666666666666666\n",
            "\n",
            "0.8333333333333334\n",
            "\n",
            "0.3333333333333333\n",
            "\n",
            "[ 7.144097    0.97455866  3.72802787  5.11644319  8.70602482 24.69140099\n",
            " 23.98012075  3.19592668 25.1985306  17.89048629 24.68695356 18.27160808\n",
            " 22.85829011  0.12929581 15.67789664  2.3262095  15.79151771 21.90473557\n",
            " 18.25817257 15.78657023 28.74328434  9.38971275 17.0010565   0.95433991\n",
            " 15.96917606  2.16395679  8.903302   19.24982156  6.52414731 14.10185677\n",
            " 27.86973455 14.38121016 28.59233824 13.17550521 22.96382405  2.52904371\n",
            "  6.2163781   8.40217036  4.48079914 28.16365298 19.73302715  3.63959282\n",
            "  1.74002295  1.5324219  26.97096908 29.37490861  4.71379092  6.44990488\n",
            "  6.81999564 22.81302458 12.41563042 11.14591581  8.08043184 29.60574053\n",
            "  3.24571518 19.66709277 13.38939302 29.56433707 24.84697258  6.249684\n",
            " 15.07668579  5.27474477 27.27430815  2.42084219 27.88317515  0.81231424\n",
            "  3.48564273 19.80738592  6.11128124 19.10323692  9.12156821 28.31696467\n",
            " 20.80158047 17.0840986  26.59969632 28.38502685 20.75398728 11.73610958\n",
            " 20.55950389 18.20349931  4.68857179 17.67638417 29.99091109 18.67756789\n",
            " 11.16391438  3.53028943 14.93882748 24.89203249 17.47310051 20.8740314\n",
            " 16.6070177  19.19564265  8.96414904  5.28451257  1.05350993 21.77737031\n",
            " 23.61684528 22.72809506 24.8322021  14.36218169  8.6091251  25.13656432\n",
            " 11.45898163 19.92575672 25.12266034  7.63273768  5.0240165  20.92435348\n",
            " 13.23933607  0.6401269  15.6813087  13.98669465  5.00961969 26.55407346\n",
            " 15.6478544   5.36392254 22.2807534  22.95452053 12.09657902 15.33347354\n",
            " 29.36367996 27.32761079 16.57775534 13.28054948 17.09693671 27.45768651\n",
            "  2.59501602  9.41004409  9.14688319 19.72368555  0.8399502   1.36535784\n",
            "  8.24745591 10.2650512  29.95498509 20.64562623  5.93986334 11.17818273\n",
            " 26.32817252  8.07638083  6.6348515  16.29376148 29.99092275 25.71567927\n",
            " 11.55546768 21.91960495 11.23343293 12.37874514 15.0825809  28.02838931\n",
            " 22.8535862   8.8911682  27.94808637 18.59880054 19.31673054  4.78414772\n",
            " 24.68245155  4.61858339  4.34185585  9.86285797 22.64196176 20.70638537\n",
            "  2.07610021 16.5432359   0.83932634 26.55708037 11.96557209  8.07255521\n",
            " 10.80342781 23.29099616 22.86574237 14.34997804  5.88657148 13.93691899\n",
            "  3.85622609 15.39470306 21.25310818 18.36870054  8.06383855 27.35806466\n",
            "  8.24616015 21.22703251 17.37235409  4.83719581 17.84253763  3.31270513\n",
            " 28.05979944 28.42309918  8.73094692 25.71299775  2.22366188  4.30187426\n",
            " 21.89436597 29.49072021 15.30664125 22.3802789   0.08102944 14.78896917\n",
            " 16.40399119  7.68390804  2.10437223  6.68794817 10.19108918 22.31258787\n",
            "  5.8189225  27.60781938 19.51339944 21.33124269  1.6294243  15.51174843\n",
            " 13.47212795 16.24027513 22.10266715  5.52406499  7.22056009  7.36829948\n",
            " 18.91081125 19.80927487 12.80401324  2.70031211 26.86102574 22.01951095\n",
            " 17.17665123 18.81827876  3.67837051 15.46293386 29.51597515 15.89595847\n",
            " 17.41855781 25.55857784 25.65737763 16.4151132   5.00323267 11.63197386\n",
            " 17.66808546 25.466024   15.18486451  0.85940046 27.00984537 14.42468181\n",
            " 27.4812224   9.47231537  2.05988889 17.30621667 24.95053845  5.57417231\n",
            " 16.0357139  13.26420998 29.46815429  1.16904392  4.53575356 10.65537707\n",
            " 11.26270564  6.0214732  27.64202445 10.29940068 28.54836132 22.22931556\n",
            " 17.55762098 28.31703818  3.20547158  6.51317017  9.60103128 11.55504752\n",
            "  1.10769737 25.19601111 26.41265999  3.17669809 29.03461951 23.78452941\n",
            " 22.35394515 18.03280452 11.23378656 25.18138124 23.9597556  10.58566727\n",
            "  2.56203807 16.32353266  8.34705721 21.65497161 27.82670318  3.24006097\n",
            "  9.48180202  1.48689026 12.89086955  0.84704402 21.10201173  9.14793573\n",
            " 27.17361576 18.45069642 14.49691685  3.98370201  0.44134824  5.05259221\n",
            " 18.47816542  8.11334339 19.95136747  7.1754582  20.10018729  4.97982617\n",
            "  8.81527565  5.76132824 15.72125645  4.76049255  4.76730185  4.54755451\n",
            " 11.99610604 22.19271804  7.0054561   0.9554475  12.72622458  5.10178612\n",
            "  3.46974455  7.75842307 13.13578589  3.8451399  11.02848319  5.77758805\n",
            " 16.19423275 23.15484726 20.1239129   8.50840771 10.91441361  7.11704929\n",
            " 20.25016912 28.69395694 20.42004446 24.35824921 24.56208344 18.70863082\n",
            "  1.55698104 27.49671811  2.57368945 23.03303579  2.38875615 13.98131955\n",
            " 21.8838685   8.44024292 25.05019036 21.95993093  8.76034493 22.85418651\n",
            " 26.07063198  5.46361622 25.58172855 15.67874872 17.81956733 26.81841668\n",
            " 13.19033546 23.19910687 23.62718492 13.15663104 23.41668296  1.87489683\n",
            " 25.2484807   8.4845543   4.92042842 22.73961665 20.2466653  19.58723259\n",
            "  2.03270822 22.9895573   7.3372969  17.54273192 21.09771191 16.96192787\n",
            "  3.48948107 16.15590988 17.70440831  1.60420151 19.81559878 25.80086106\n",
            " 15.68959678 18.83009183 23.19198615 12.66930187  7.00118096  6.64600958\n",
            " 19.87400439 19.55842619 25.54278522 14.27653959 12.0734572  22.78237983\n",
            " 17.15165279 24.08463516 28.59624819 28.16152099  5.93891699 16.94105605\n",
            " 20.80665928  9.99890108  8.79730012  7.05110922  3.8104523   5.62610024\n",
            "  5.58639014 18.78260685  9.95891585 20.62479473 28.77797774 25.81469814\n",
            "  2.25609181 13.65905187 21.1528068   8.01290913  7.73848867 26.88193447\n",
            " 21.44953343 10.12615075 19.75731318  4.27872352 20.30849315 26.77882578\n",
            "  1.351449   20.8075843   0.46173517 19.80997905  9.7624355  17.37924972\n",
            "  1.43062491 22.20157066 25.1824487  28.8357933  16.09702531 24.73842767\n",
            "  0.2308042   6.13048075 29.614561    8.33629603 16.12795224 29.21240454\n",
            " 13.45025092 28.92901674 28.68113999 18.76015795  8.85400148  0.72177506\n",
            " 18.5678127   1.5946721   6.51114298  0.14954964  8.40759558 15.3456776\n",
            " 18.16257912 21.48146244 19.35734786  6.69307887 11.14786018  5.19542535\n",
            " 20.11979092 15.36643858  1.75976538  1.88235419 14.67047828 17.87206607\n",
            " 23.89728101 11.53568193 19.55519337 12.9925055   3.75560435  8.84921298\n",
            " 10.41509647 10.05015649  2.08203941 13.95507535 18.69687686  3.65394569\n",
            " 16.73715719 25.9668531  19.90170356 10.66486523 27.98606183 19.33610382\n",
            " 27.37475735 24.1411498  28.39648506 10.56397635 17.67065935 19.81446104\n",
            "  5.08556252 21.61589418  4.91334443 10.25571404 13.86547777 28.5015485\n",
            " 19.52083861 22.05488912  9.17148377  1.11732389 18.30445657 13.80853\n",
            "  2.00270834 26.65687785  8.33324258 16.37203881 24.89846207  8.62610704\n",
            " 29.82242843 16.81338141 17.33734435  1.0612399  29.2449401   6.66842773\n",
            " 14.65276829 11.46127532  5.94042969  8.51718703 19.16192131 27.77484802\n",
            " 26.80478414 18.46459441 14.64021886 10.41881806  5.05273386 22.93123257\n",
            " 12.32037453 29.07333784 19.8933068  19.33393445 23.75624561 27.41576612\n",
            "  4.89400728 27.97022569  5.46431449 26.39553105 23.10148492  5.59326106\n",
            "  5.43438053 12.80881651 22.58136604  6.81522341  1.29891598  8.92824717\n",
            "  0.06222649  0.31415758  1.49504525 14.46068646 17.65853438  7.4496374\n",
            " 17.22446855 21.84287476 21.60599421 28.86047834 28.24253893  7.10948381\n",
            " 26.95417677 22.69920835 14.85402627  8.3681587  29.58708806 13.78486659\n",
            " 17.35864925 26.46297136 21.22739031 28.53046947  8.93805023  7.02914326\n",
            " 11.80133052 18.99940059 14.08892962  3.85612353 13.56279119 20.12274586\n",
            " 16.74078625 29.53044614  5.18316362 11.53812907 27.43654492  0.42476924\n",
            " 29.87062735  5.50874294  3.8568494   6.41204685 20.30702925  3.32308882\n",
            "  3.94770677  6.87059867  3.93014852 21.98204107  0.86507581 20.56982783\n",
            " 10.47517828  5.51681714 28.14377379 29.45286026 11.06512511 16.61676719\n",
            "  1.98579434  5.54260989  1.07592481  2.31764882  8.88290412 21.4881271\n",
            " 22.64224754  7.27994039  9.37643238 10.83908073  0.69663121 21.23717882\n",
            "  9.66027816 16.97956524 14.81638878 16.5534871   9.75601043  5.93087217\n",
            " 28.36797115 21.09462207 13.03173376  0.7983171   3.50516639 19.00649926\n",
            "  5.82081691  5.81833671 20.61983383 28.71056507  6.91237663 12.4619051\n",
            " 12.30761644 19.84040954  4.64447622  0.64917761 19.86567877  5.99418851\n",
            "  1.35794716 27.48067897 29.73644518 28.6065078   8.5299145   4.12152041\n",
            "  0.5607774  18.57081877 22.17373158  7.58966957 18.2784296  10.70211771\n",
            " 11.13177466 29.30678999  1.2423198  14.35713294 17.35500663 17.14866592\n",
            " 10.3789623  24.17742423 14.94162775  2.59992154 11.85508506 27.4947809\n",
            " 22.37927752 16.63597764  2.18654009 27.58998237 24.9960839  18.97091648\n",
            " 19.87097998 29.71143066 18.15641786  8.02594757 12.34873726  6.39950324\n",
            " 26.71285573  5.72013105 27.25611587 11.11118651 13.14563054 24.3161132\n",
            "  9.12227066  6.09164062  7.61512695 15.27894726  1.55172543 16.11462964\n",
            " 20.01927489  0.36023495 22.18975204 10.68017381 26.67207213 18.49390616\n",
            " 14.12316947 12.30157185 24.46937392  2.94349773  2.71721257 19.89328934\n",
            " 11.60564868 20.99716418  6.83938153  3.15126472 21.18057782 23.04084254\n",
            " 29.52319489 13.41468779  8.36540008  1.17474372 16.52320975 16.29079038\n",
            " 23.68058086  9.73990339 21.21125025 11.64009223  8.27581985 25.34508281\n",
            " 27.14020237 20.99498767 26.36379634 22.12460919 14.38182874 12.83843751\n",
            "  2.4921115   3.30654254 15.38775096  9.47486316 16.53719202 12.18243936\n",
            "  6.94896378  5.99117553 16.06222869  5.82268307 10.69273715  8.58678605\n",
            " 27.77414396  6.29565658 22.85039389 22.68722007  0.43084526 19.12501901\n",
            " 23.05647004  6.23804663 16.49611786 10.854354   12.4620608  26.2548841\n",
            " 19.76816626  6.54492209 28.71514653  7.80202629 16.96751571 11.15377563\n",
            " 22.80092952  5.09403519 24.00001246  8.21769557 13.53560859  2.94076629\n",
            "  4.02757203  8.96659938  6.86912639 12.0326642  27.15751025 15.4782868\n",
            "  7.22781653 17.19415714 10.47116023 21.49491811  5.4747806  26.51862933\n",
            " 26.16289208 29.74722369 26.5735013  16.7792301  15.31299374  5.97510684\n",
            " 14.539767    5.34494067  8.90650139 13.70810391  0.63137974  9.78624106\n",
            " 22.98898991 21.52163702  5.36747243  2.08048168  7.42243152 25.8369847\n",
            " 25.40242175 13.07497422 28.66966768 24.04491316 21.29637332  7.42492739\n",
            "  2.11604443 29.49179095  4.27645773  8.61358603 17.16555207 26.59803794\n",
            " 13.78944191 15.62067191  9.21670849 12.14562662 10.52617782 25.98579879\n",
            " 14.39787573  8.08763319 16.78552727 22.79597812  8.7695133  17.27072338\n",
            " 24.43151203 16.88485001 24.44534146 16.21756467 13.61941002 19.87394843\n",
            " 12.63576776 14.50185412 26.83264391  3.00081583 16.48057545  2.45212633\n",
            " 18.83439311 13.19865842  9.40766691 15.60923545  1.63933761 23.76828936\n",
            " 10.15252566  0.40447879 24.59292978  1.3675066   9.71814934 12.16659686\n",
            " 23.04867235 20.03414656  8.5168254  19.59414161  6.77825259  8.8070403\n",
            "  5.87152425  2.5970591   4.93086037 21.00689143 10.53794997  4.50059669\n",
            "  4.80161712 19.86587841 13.82231035 25.92370876 16.76861995 19.88191792\n",
            "  5.11770677 29.00105159 25.65446515  6.84179709 22.57233685  8.15577205\n",
            " 24.13735729  4.03149435  4.13231282 16.12464321 22.48533776 20.282976\n",
            "  5.74012718 22.43342651  2.60477234  3.21766129  5.65283575 28.84370986\n",
            " 23.65634284 21.7798963  16.85637734  0.61478999  4.53882038  4.65444933\n",
            "  9.04857098 19.63428333 15.00766938 17.76592972 21.46082362 25.77459268\n",
            " 19.85548771  8.20584755  8.47650143 21.69630957  3.13097349 10.20447772\n",
            " 29.66564838 23.56946713 26.2778947  23.81853285 10.81655255  6.05639951\n",
            "  2.85441413 19.56517693 23.71136826 20.36624573  6.59131157 23.74895849\n",
            " 22.42574624 10.31297875  6.60447634  5.37750477 29.10394928 12.33961909\n",
            " 14.61065264 27.83726115  5.16829978 19.01401557  5.2640168  10.30361904\n",
            " 24.32169445  3.18704573 25.06890427 26.01541021 13.94792952 21.25266832\n",
            " 25.93658805 16.80375076  1.50816509  2.64600638 13.47500562 15.08548187\n",
            " 14.90796765 20.88436957 22.53457433 15.84915157  8.86204958 27.73245412\n",
            " 11.22385246 15.78749796 15.91197569 22.37113884  3.19226887  4.65976517\n",
            "  9.30923397 10.77526643  3.97151627 29.28059273 29.27602822 20.71976894\n",
            " 18.60895651  4.29611269 23.93608872 22.58290622  4.47426371  7.2489746\n",
            " 15.22674952 27.63320022  8.78304562 28.40607909 17.1539386   2.61718331\n",
            " 10.65596075 29.8980006  29.91966885 27.34174997  0.61629001 15.17716754\n",
            "  9.90825324 16.72368794 12.96779625 10.46723235  1.79071474  4.91140186\n",
            "  0.71891742 27.83882355 26.95599526 19.63276655 25.02837667  6.70120501\n",
            " 27.8039181   3.93032514 29.20218039 20.45922096 18.39870488  6.64103042\n",
            " 15.9427296  29.26956198 29.75236465  6.24029179 10.9032813  25.74945237\n",
            " 19.34538144 16.31296664 10.93219849 10.70922385 21.19432171 10.39189311\n",
            "  1.8610141  24.11741202 25.59864155  0.68627027 15.7876837   1.10010957\n",
            "  3.47094738 27.61646738 10.07577678 19.84021078 27.29452887  8.52034156\n",
            "  5.181769   12.92311547 14.25423041 26.70151037 27.44545754 24.06119139\n",
            " 14.00076717  8.56031135 25.99043117 20.11722212]\n",
            "\n"
          ]
        },
        {
          "output_type": "display_data",
          "data": {
            "text/plain": [
              "<Figure size 640x480 with 1 Axes>"
            ],
            "image/png": "[encoded data removed]"
          },
          "metadata": {}
        }
      ]
    },
    {
      "cell_type": "markdown",
      "source": [
        "# **Simulating sales deals**"
      ],
      "metadata": {
        "id": "7hSCrJsKznpZ"
      }
    },
    {
      "cell_type": "code",
      "source": [
        "# Import binom from scipy.stats\n",
        "from scipy.stats import binom\n",
        "import numpy as np\n",
        "\n",
        "# Set random seed to 10\n",
        "np.random.seed(10)\n",
        "\n",
        "# Simulate a single deal\n",
        "print(binom.rvs(1, 0.3, size= 1))\n",
        "\n",
        "# Simulate 1 week of 3 deals\n",
        "print(binom.rvs(3, 0.3, size= 1))\n",
        "\n",
        "# Simulate 52 weeks of 3 deals\n",
        "deals = binom.rvs(3, 0.3, size= 52)\n",
        "\n",
        "# Print mean deals won per week\n",
        "print(deals.mean())\n",
        "print()\n",
        "\n",
        "\n",
        "\n",
        "# Calculating binomial probabilities\n",
        "\n",
        "# Probability of closing 3 out of 3 deals\n",
        "prob_3 = binom.pmf(3, 3, 0.3)\n",
        "# SYNTAX: binom.pmf(#successes, #trials, p(success))\n",
        "\n",
        "print(prob_3)\n",
        "\n",
        "# Probability of closing <= 1 deal out of 3 deals\n",
        "prob_less_than_or_equal_1 = binom.cdf(1, 3, 0.3)\n",
        "\n",
        "print(prob_less_than_or_equal_1)\n",
        "print()\n",
        "\n",
        "# Probability of closing > 1 deal out of 3 deals\n",
        "# SINCE WE DON'T HAVE A METHOD TO CALCULATE DIRECTLY THIS PROBABILITY, WE MUST\n",
        "# USE THE CONCEPT OF COMPLEMENTARY PROBABILITY TO SOLVE IT\n",
        "\n",
        "# P(close > 1) = 1 - P(close <= 1)\n",
        "\n",
        "prob_greater_than_1 = 1 - prob_less_than_or_equal_1\n",
        "\n",
        "print(prob_greater_than_1)\n",
        "print()\n",
        "\n",
        "\n",
        "\n",
        "# How many sales will be won?\n",
        "# EXPECTED VALUE OF A BINOMIAL DISTRIBUTION IS n * p\n",
        "\n",
        "\n",
        "# Expected number won with 30% win rate\n",
        "won_30pct = 3 * 0.3\n",
        "print(won_30pct)\n",
        "\n",
        "# Expected number won with 25% win rate\n",
        "won_25pct = 3 * 0.25\n",
        "print(won_25pct)\n",
        "\n",
        "# Expected number won with 35% win rate\n",
        "won_35pct = 3 * 0.35\n",
        "print(won_35pct)\n"
      ],
      "metadata": {
        "colab": {
          "base_uri": "https://localhost:8080/"
        },
        "id": "pNtJV1yfzpVz",
        "outputId": "8be6fd44-262e-484a-db77-db2876d8286a"
      },
      "execution_count": null,
      "outputs": [
        {
          "output_type": "stream",
          "name": "stdout",
          "text": [
            "[1]\n",
            "[0]\n",
            "0.8461538461538461\n",
            "\n",
            "0.026999999999999996\n",
            "0.784\n",
            "\n",
            "0.21599999999999997\n",
            "\n",
            "0.8999999999999999\n",
            "0.75\n",
            "1.0499999999999998\n"
          ]
        }
      ]
    },
    {
      "cell_type": "markdown",
      "source": [
        "# **Distribution of Amir's sales**"
      ],
      "metadata": {
        "id": "GlgprvQb_iZk"
      }
    },
    {
      "cell_type": "code",
      "source": [
        "# IMPORTING PACKAGES\n",
        "\n",
        "import pandas as pd\n",
        "import numpy as np\n",
        "import matplotlib.pyplot as plt\n",
        "\n",
        "# READING FILES\n",
        "\n",
        "path = '/content/drive/MyDrive/Colab Notebooks/Statistics in Py/amir_deals.csv'\n",
        "\n",
        "amir_deals = pd.read_csv(path)\n",
        "\n",
        "# KNOW YOUR DATA\n",
        "\n",
        "print(amir_deals.head(10))\n",
        "print()\n",
        "\n",
        "\n",
        "# MANIPULATING DATA\n",
        "\n",
        "# what kind of distribution the 'amount' variable follows.\n",
        "\n",
        "# Histogram of amount with 10 bins and show plot\n",
        "amir_deals['amount'].hist(bins = 10)\n",
        "plt.show()\n",
        "print()\n",
        "\n",
        "# Probabilities from the normal distribution\n",
        "\n",
        "from scipy.stats import norm\n",
        "\n",
        "# Probability of deal < 7500\n",
        "\n",
        "prob_less_7500 = norm.cdf(7500, 5000, 2000)\n",
        "\n",
        "# SINCE THE AREA BENEATH THE NORMAL CURVE IS 1, THE % OF DATA CALCULATED BY THE NORM METHOD GIVES DIRECTLY THE PROBABILITY OF AN EVENT\n",
        "\n",
        "print(prob_less_7500)\n",
        "print()\n",
        "\n",
        "# Probability of deal > 1000\n",
        "# SINCE THE NORM METHOD ONLY CALCULATES PROB OF LESS OR EQUAL THAN, WE HAVE TO USE COMPLEMENTARY PROBABILITY\n",
        "\n",
        "prob_over_1000 = 1 - norm.cdf(1000, 5000, 2000)\n",
        "\n",
        "print(prob_over_1000)\n",
        "print()\n",
        "\n",
        "# Probability of deal between 3000 and 7000\n",
        "# SINCE THE NORM METHOD ONLY CALCULATE PROB OF A VALUE BEING LESS OR EQUAL THAN, ME HAVE TO ADJUST: P(X<7000) - P(X<3000)\n",
        "\n",
        "prob_3000_to_7000 = norm.cdf(7000, 5000, 2000) - norm.cdf(3000, 5000, 2000)\n",
        "\n",
        "print(prob_3000_to_7000)\n",
        "print()\n",
        "\n",
        "# Calculate amount that 25% of deals will be less than\n",
        "# TO CALCULATE PERCENTILE, WE USE THE METHOD NORM.PPF()\n",
        "\n",
        "pct_25 = norm.ppf(0.25, 5000, 2000)\n",
        "\n",
        "print(pct_25)\n",
        "print()\n",
        "\n",
        "# Simulating sales under new market conditions\n",
        "\n",
        "# Calculate new average amount\n",
        "new_mean = 5000 * 1.2\n",
        "\n",
        "# Calculate new standard deviation\n",
        "new_sd = 2000 * 1.3\n",
        "\n",
        "# Simulate 36 new sales\n",
        "new_sales = norm.rvs(new_mean, new_sd, 36)\n",
        "\n",
        "# Create histogram and show\n",
        "plt.hist(new_sales)\n",
        "plt.show()\n",
        "\n",
        "\n",
        "# Which market is better?\n",
        "\n",
        "#current:\n",
        "\n",
        "print(1-norm.cdf(1000, 5000, 2000))\n",
        "print(1-norm.cdf(1000, 6000, 2600))\n",
        "\n",
        "print('They are about the same')\n",
        "\n",
        "\n"
      ],
      "metadata": {
        "colab": {
          "base_uri": "https://localhost:8080/",
          "height": 1000
        },
        "id": "qO4j-awc_mP3",
        "outputId": "07464a19-bc1b-4876-9aeb-30af2a5a99df"
      },
      "execution_count": null,
      "outputs": [
        {
          "output_type": "stream",
          "name": "stdout",
          "text": [
            "   Unnamed: 0    product   client status   amount  num_users\n",
            "0           1  Product F  Current    Won  7389.52         19\n",
            "1           2  Product C      New    Won  4493.01         43\n",
            "2           3  Product B      New    Won  5738.09         87\n",
            "3           4  Product I  Current    Won  2591.24         83\n",
            "4           5  Product E  Current    Won  6622.97         17\n",
            "5           6  Product B      New    Won  5496.27          2\n",
            "6           7  Product C  Current    Won  3043.13         29\n",
            "7           8  Product N  Current    Won  7340.64         13\n",
            "8           9  Product F  Current    Won  6780.85         80\n",
            "9          10  Product B  Current    Won  5237.24         23\n",
            "\n"
          ]
        },
        {
          "output_type": "display_data",
          "data": {
            "text/plain": [
              "<Figure size 640x480 with 1 Axes>"
            ],
            "image/png": "[encoded data removed]"
          },
          "metadata": {}
        },
        {
          "output_type": "stream",
          "name": "stdout",
          "text": [
            "\n",
            "0.8943502263331446\n",
            "\n",
            "0.9772498680518208\n",
            "\n",
            "0.6826894921370859\n",
            "\n",
            "3651.0204996078364\n",
            "\n"
          ]
        },
        {
          "output_type": "display_data",
          "data": {
            "text/plain": [
              "<Figure size 640x480 with 1 Axes>"
            ],
            "image/png": "[encoded data removed]"
          },
          "metadata": {}
        },
        {
          "output_type": "stream",
          "name": "stdout",
          "text": [
            "0.9772498680518208\n",
            "0.9727648049862613\n",
            "They are about the same\n"
          ]
        }
      ]
    },
    {
      "cell_type": "markdown",
      "source": [
        "# **THE CENTRAL LIMIT THEOREM**"
      ],
      "metadata": {
        "id": "tURxZ524Qq4Y"
      }
    },
    {
      "cell_type": "code",
      "source": [
        "# IMPORTING PACKAGES\n",
        "\n",
        "import pandas as pd\n",
        "import numpy as np\n",
        "import matplotlib.pyplot as plt\n",
        "\n",
        "# READING FILES\n",
        "\n",
        "path = '/content/drive/MyDrive/Colab Notebooks/Statistics in Py/amir_deals.csv'\n",
        "\n",
        "amir_deals = pd.read_csv(path)\n",
        "\n",
        "path2 = '/content/drive/MyDrive/Colab Notebooks/Statistics in Py/all_deals2.csv'\n",
        "\n",
        "all_deals = pd.read_csv(path2)\n",
        "\n",
        "# KNOW YOUR DATA\n",
        "\n",
        "print(amir_deals.head(10))\n",
        "print()\n",
        "\n",
        "print(all_deals.head(10))\n",
        "print()\n",
        "\n",
        "# manipulating data\n",
        "\n",
        "# Create a histogram of num_users and show\n",
        "amir_deals['num_users'].hist()\n",
        "plt.show()\n",
        "\n",
        "# THE DISTRIBUTION OF THIS FEATURE IS RIGHT SKEWED\n",
        "\n",
        "# SETTING THE SEED\n",
        "\n",
        "# Set seed to 104\n",
        "np.random.seed(104)\n",
        "\n",
        "# Sample 20 num_users with replacement from amir_deals\n",
        "samp_20 = amir_deals['num_users'].sample(20, replace = True)\n",
        "\n",
        "# WE CAN CALL THE METHOD .sample() FROM THE SERIES TO MAKE SAMPLES\n",
        "print('Printing the samples: ')\n",
        "print(samp_20)\n",
        "print()\n",
        "\n",
        "# Take mean of samp_20\n",
        "print(np.mean(samp_20))\n",
        "print()\n",
        "\n",
        "# CREATING A LIST TO STORE THE STATS VALUES\n",
        "\n",
        "# THE MEAN VALUE OF THE 20 SAMPLES WILL BE STORED 100 TIMES INSIDE THE SAMPLE_MEANS LIST\n",
        "\n",
        "# EXPLANATION: This will take 100 different samples (OF SIZE 20) and calculate the mean of each.\n",
        "\n",
        "sample_means = []\n",
        "\n",
        "# Loop 100 times\n",
        "for i in range(0, 1000):\n",
        "  # Take sample of 20 num_users\n",
        "  samp_20 = amir_deals['num_users'].sample(20, replace = True)\n",
        "  # Calculate mean of samp_20\n",
        "  samp_20_mean = np.mean(samp_20)\n",
        "  # Append samp_20_mean to sample_means\n",
        "  sample_means.append(samp_20_mean)\n",
        "\n",
        "print(sample_means)\n",
        "print()\n",
        "\n",
        "# Convert to Series and plot histogram\n",
        "sample_means_series = pd.Series(sample_means)\n",
        "sample_means_series.hist()\n",
        "# Show plot\n",
        "plt.show()\n",
        "\n",
        "# AS THE NUMBER OF TRIALS GROWS, THE PLOT TENDS TO A NORMAL DISTRIBUTION\n",
        "\n",
        "\n",
        "# MAIN IDEA: CALCULATE STATISTICS OVER THE ENTIRE DISTRIBUTION MAY BE A DIFICULT WORK OR EVEN IMPOSSIBLE. THE IDEA IS TO CALCULATE STATISTICS OVER THE SAMPLES, AND THEN VERIFY THE NORMAL DISTRIBUTION THAT IT GIVES US, AND TAKE THE MEAN OF THE NORMAL DISTRIBUTION GENERATED\n",
        "\n",
        "# The mean of means\n",
        "\n",
        "\n",
        "# Set seed to 321\n",
        "np.random.seed(321)\n",
        "\n",
        "sample_means = []\n",
        "# Loop 30 times to take 30 means\n",
        "for i in range(0, 30):\n",
        "  # Take sample of size 20 from num_users col of all_deals with replacement\n",
        "  cur_sample = all_deals['num_users'].sample(20, replace = True)\n",
        "  # Take mean of cur_sample\n",
        "  cur_mean = np.mean(cur_sample)\n",
        "  # Append cur_mean to sample_means\n",
        "  sample_means.append(cur_mean)\n",
        "\n",
        "# Print mean of sample_means\n",
        "print(np.mean(sample_means))\n",
        "print('The mean above refers to the samples. It\\'s easier to calculate mean over the samples rather than over the entire population.')\n",
        "print()\n",
        "\n",
        "# Print mean of num_users in amir_deals\n",
        "print(np.mean(amir_deals['num_users']))\n",
        "print('This is the mean calculated over the entire population. Notice that there are no big differences. ')\n",
        "\n"
      ],
      "metadata": {
        "colab": {
          "base_uri": "https://localhost:8080/",
          "height": 1000
        },
        "id": "51u-_MJnQ0Ao",
        "outputId": "fdeb7a8b-5a64-4f94-b5ac-5f39ea0ce692"
      },
      "execution_count": 9,
      "outputs": [
        {
          "output_type": "stream",
          "name": "stdout",
          "text": [
            "   Unnamed: 0    product   client status   amount  num_users\n",
            "0           1  Product F  Current    Won  7389.52         19\n",
            "1           2  Product C      New    Won  4493.01         43\n",
            "2           3  Product B      New    Won  5738.09         87\n",
            "3           4  Product I  Current    Won  2591.24         83\n",
            "4           5  Product E  Current    Won  6622.97         17\n",
            "5           6  Product B      New    Won  5496.27          2\n",
            "6           7  Product C  Current    Won  3043.13         29\n",
            "7           8  Product N  Current    Won  7340.64         13\n",
            "8           9  Product F  Current    Won  6780.85         80\n",
            "9          10  Product B  Current    Won  5237.24         23\n",
            "\n",
            "   Unnamed:   0  product  num_users\n",
            "0       0.0   1   3544.0       19.0\n",
            "1       1.0   2   5073.0       43.0\n",
            "2       2.0   3   6149.0       87.0\n",
            "3       3.0   4   7863.0       83.0\n",
            "4       4.0   5     14.0       17.0\n",
            "5       5.0   6  10247.0        2.0\n",
            "6       6.0   7   3544.0       29.0\n",
            "7       7.0   8   5073.0       13.0\n",
            "8       8.0   9   6149.0       80.0\n",
            "9       9.0  10   7863.0       23.0\n",
            "\n"
          ]
        },
        {
          "output_type": "display_data",
          "data": {
            "text/plain": [
              "<Figure size 640x480 with 1 Axes>"
            ],
            "image/png": "[encoded data removed]"
          },
          "metadata": {}
        },
        {
          "output_type": "stream",
          "name": "stdout",
          "text": [
            "Printing the samples: \n",
            "69      2\n",
            "142    17\n",
            "166    11\n",
            "127     7\n",
            "8      80\n",
            "100    48\n",
            "112    12\n",
            "119    37\n",
            "25     16\n",
            "141     8\n",
            "3      83\n",
            "8      80\n",
            "142    17\n",
            "59      6\n",
            "69      2\n",
            "81     43\n",
            "24     31\n",
            "137    89\n",
            "159    29\n",
            "79     22\n",
            "Name: num_users, dtype: int64\n",
            "\n",
            "32.0\n",
            "\n",
            "[31.35, 45.05, 33.55, 38.15, 50.85, 31.85, 34.65, 36.25, 38.9, 44.05, 35.45, 37.6, 37.95, 28.85, 33.3, 31.65, 45.5, 43.2, 24.4, 41.05, 37.2, 39.3, 29.45, 33.55, 45.3, 45.1, 30.95, 36.25, 37.65, 42.55, 34.55, 41.1, 36.9, 42.45, 38.45, 45.9, 42.7, 38.4, 32.55, 30.25, 38.0, 38.75, 49.3, 39.55, 49.05, 42.05, 41.0, 40.6, 58.25, 34.55, 51.2, 34.15, 36.95, 42.45, 41.85, 33.2, 36.15, 37.55, 34.2, 29.75, 42.35, 43.75, 29.0, 32.05, 31.65, 44.6, 30.85, 29.6, 37.7, 33.1, 36.35, 40.65, 45.7, 33.8, 40.1, 39.9, 33.5, 32.65, 32.85, 42.85, 35.4, 31.7, 32.0, 33.85, 36.6, 44.35, 39.9, 37.0, 37.3, 42.5, 38.35, 42.8, 44.55, 30.3, 50.45, 42.35, 40.65, 29.85, 39.3, 33.1, 38.6, 37.75, 41.6, 39.65, 38.65, 38.45, 31.15, 24.95, 37.15, 38.55, 34.55, 36.1, 46.35, 45.75, 40.5, 29.65, 54.4, 32.95, 40.45, 43.5, 30.25, 32.05, 41.6, 44.35, 39.6, 39.9, 40.1, 35.75, 27.3, 29.0, 37.75, 41.65, 39.25, 32.1, 42.65, 33.3, 30.95, 32.55, 30.95, 35.65, 38.45, 39.7, 34.35, 33.7, 36.25, 40.3, 35.65, 32.8, 53.6, 40.05, 36.6, 53.0, 38.7, 53.1, 43.55, 32.55, 45.3, 36.85, 36.15, 37.4, 38.25, 33.1, 32.15, 38.75, 32.0, 40.2, 27.45, 31.4, 43.5, 28.45, 46.15, 29.8, 41.65, 42.2, 32.1, 46.75, 19.85, 28.3, 33.2, 33.9, 30.9, 36.0, 33.8, 30.0, 41.25, 38.4, 28.15, 36.6, 31.5, 34.15, 42.5, 48.4, 31.4, 30.3, 34.05, 40.55, 36.55, 41.7, 27.25, 40.55, 38.0, 31.2, 32.8, 38.1, 36.9, 36.05, 37.4, 39.3, 38.7, 47.5, 41.7, 28.8, 40.05, 29.3, 44.35, 34.85, 33.2, 20.2, 29.5, 33.7, 44.85, 50.4, 33.7, 40.1, 50.05, 32.2, 37.0, 42.8, 32.2, 40.95, 39.85, 29.7, 33.9, 38.25, 35.75, 27.85, 37.7, 41.05, 40.45, 43.6, 36.05, 39.6, 33.6, 42.35, 34.65, 49.8, 37.5, 45.65, 41.9, 49.15, 41.35, 31.5, 37.1, 43.95, 38.5, 40.7, 29.55, 36.6, 42.55, 27.15, 40.1, 27.6, 37.9, 32.95, 47.95, 33.45, 36.5, 28.05, 29.35, 31.65, 39.7, 39.85, 31.85, 43.75, 38.8, 42.1, 36.0, 36.6, 44.3, 22.35, 33.45, 38.95, 29.6, 34.75, 36.05, 33.2, 37.85, 28.4, 29.9, 25.8, 31.0, 43.55, 33.05, 38.65, 45.75, 31.5, 34.25, 49.6, 40.1, 43.15, 44.75, 47.7, 44.7, 34.95, 36.7, 33.55, 34.2, 34.35, 34.6, 39.75, 27.65, 36.4, 29.2, 39.35, 44.4, 49.15, 46.1, 39.45, 27.75, 28.55, 28.75, 43.45, 37.9, 50.25, 36.2, 28.25, 42.45, 44.9, 41.7, 44.0, 30.0, 32.95, 34.1, 36.85, 42.45, 38.25, 39.45, 32.55, 40.65, 34.85, 31.55, 40.45, 41.5, 32.15, 48.4, 38.05, 36.3, 30.6, 35.6, 38.45, 40.15, 35.3, 38.9, 35.25, 38.1, 42.45, 50.4, 41.65, 58.25, 37.9, 45.65, 26.85, 40.75, 28.8, 43.8, 44.35, 31.65, 32.5, 41.3, 34.95, 40.65, 43.5, 36.0, 26.4, 43.85, 28.6, 32.0, 41.6, 39.65, 36.45, 40.05, 49.2, 45.55, 39.25, 33.75, 35.85, 30.55, 34.45, 39.1, 37.15, 37.7, 26.8, 30.15, 47.2, 37.95, 38.0, 32.3, 41.55, 40.1, 38.05, 38.75, 28.3, 42.3, 40.6, 37.15, 40.5, 45.75, 41.4, 35.4, 41.55, 32.9, 59.0, 43.9, 37.95, 38.1, 25.95, 37.15, 37.25, 33.75, 28.0, 43.0, 36.9, 38.9, 35.7, 46.1, 30.1, 29.45, 33.8, 30.65, 32.05, 37.95, 47.25, 37.5, 32.9, 38.45, 46.0, 39.15, 47.4, 39.1, 33.3, 33.65, 40.4, 32.45, 31.95, 32.15, 38.1, 28.05, 44.8, 40.35, 46.7, 34.8, 38.95, 28.0, 36.15, 27.35, 39.8, 35.7, 44.1, 38.0, 39.75, 32.5, 39.3, 41.35, 31.25, 39.5, 46.65, 35.6, 34.75, 44.0, 36.05, 38.85, 38.45, 40.0, 43.25, 34.25, 35.0, 27.25, 43.05, 43.85, 33.55, 43.95, 31.5, 38.4, 40.45, 32.7, 36.65, 34.25, 31.1, 36.0, 27.15, 40.85, 40.9, 44.65, 35.45, 30.0, 36.85, 40.8, 40.8, 16.6, 30.5, 32.4, 43.1, 42.75, 41.15, 41.9, 30.1, 38.4, 40.3, 42.25, 41.05, 37.55, 27.7, 30.9, 39.3, 33.25, 35.65, 32.7, 32.2, 36.2, 36.4, 38.7, 28.5, 47.1, 29.65, 39.85, 33.65, 41.2, 47.8, 33.65, 42.15, 28.05, 43.5, 36.85, 44.6, 37.4, 33.8, 34.8, 40.95, 32.2, 35.5, 26.9, 34.5, 48.7, 36.6, 44.55, 44.25, 33.05, 32.8, 16.6, 40.5, 29.25, 28.95, 43.85, 40.3, 40.1, 50.3, 36.5, 36.8, 33.4, 51.9, 46.65, 43.5, 38.6, 41.2, 33.65, 40.25, 38.35, 43.95, 27.95, 42.35, 34.05, 39.2, 44.4, 42.85, 35.8, 45.3, 39.0, 35.1, 33.15, 43.0, 35.5, 34.1, 47.5, 38.65, 39.6, 51.45, 46.7, 49.9, 40.1, 33.85, 31.75, 42.05, 38.55, 34.85, 40.15, 41.9, 46.15, 40.05, 44.75, 32.05, 40.65, 36.8, 41.6, 32.6, 26.65, 36.6, 30.9, 32.6, 37.2, 37.05, 34.85, 43.3, 30.0, 35.3, 35.9, 49.1, 33.2, 42.05, 31.0, 36.2, 42.9, 28.75, 31.7, 32.35, 45.4, 42.8, 37.35, 48.9, 33.55, 50.05, 32.35, 28.75, 45.35, 39.7, 41.6, 41.3, 35.4, 44.45, 43.0, 32.65, 31.05, 44.45, 42.1, 27.2, 39.55, 41.0, 46.65, 44.75, 45.15, 38.2, 36.35, 50.15, 41.15, 33.1, 39.2, 43.85, 37.35, 35.5, 33.1, 53.8, 41.1, 33.7, 43.55, 38.45, 41.5, 49.1, 45.9, 33.2, 28.3, 33.75, 35.05, 38.5, 40.05, 35.8, 30.45, 30.7, 34.85, 42.05, 44.8, 30.9, 26.3, 33.9, 30.05, 33.85, 39.8, 43.4, 33.4, 36.45, 31.1, 38.75, 38.65, 41.5, 36.35, 33.45, 27.1, 54.75, 45.95, 40.6, 33.0, 38.2, 41.35, 35.1, 34.65, 33.5, 48.0, 36.5, 37.0, 41.6, 34.75, 41.7, 45.55, 37.75, 43.45, 37.05, 41.5, 46.95, 41.3, 37.05, 43.6, 40.8, 47.5, 33.15, 27.45, 41.1, 34.8, 47.0, 42.15, 36.5, 34.9, 32.95, 48.95, 34.05, 27.8, 39.4, 36.1, 48.8, 32.85, 31.7, 40.85, 39.4, 42.8, 37.9, 33.8, 29.3, 39.4, 34.0, 30.65, 43.05, 27.95, 30.65, 27.1, 35.85, 50.5, 32.9, 33.45, 36.5, 29.55, 35.1, 32.15, 38.35, 39.7, 39.45, 35.0, 41.5, 49.3, 39.2, 39.9, 35.4, 42.0, 39.75, 38.05, 32.5, 36.95, 38.4, 47.65, 39.2, 36.4, 45.65, 31.0, 43.35, 46.1, 45.3, 32.25, 33.65, 34.55, 49.4, 47.65, 32.55, 44.65, 40.2, 34.55, 39.55, 30.6, 35.55, 39.75, 35.9, 41.35, 44.25, 34.2, 27.9, 43.65, 24.7, 29.95, 32.7, 34.7, 33.0, 33.85, 24.2, 24.3, 43.25, 34.8, 44.2, 42.35, 25.7, 38.4, 35.25, 31.5, 40.95, 39.15, 35.9, 38.05, 30.65, 38.15, 40.0, 52.15, 35.45, 35.1, 46.5, 33.3, 29.95, 37.65, 39.55, 30.55, 32.6, 36.55, 40.9, 42.9, 29.9, 36.6, 34.85, 39.35, 41.4, 35.75, 32.25, 35.25, 32.15, 39.9, 36.2, 40.05, 36.2, 33.3, 39.25, 39.2, 25.9, 48.15, 49.15, 41.95, 36.4, 38.1, 29.85, 39.8, 35.3, 48.65, 31.9, 50.4, 27.95, 39.9, 47.8, 37.35, 25.15, 44.1, 44.05, 35.95, 44.5, 35.7, 40.95, 32.8, 41.5, 34.6, 33.7, 33.65, 27.95, 42.05, 26.25, 22.8, 37.45, 41.2, 36.35, 31.55, 47.4, 43.35, 34.2, 32.4, 31.3, 31.85, 37.55, 42.35, 28.95, 38.3, 38.95, 26.45, 41.35, 23.65, 36.2, 37.45, 36.3, 38.55, 37.3, 52.35, 30.85, 43.85, 37.3, 38.55, 34.7, 35.85, 41.65, 34.55, 36.5, 41.95, 34.05, 42.85, 35.85, 38.55, 42.25, 35.6, 40.75, 35.1, 33.95, 34.9, 48.35, 38.5, 26.1, 32.7, 53.85, 31.9, 37.2, 38.25, 32.55, 35.4, 37.2, 45.1, 37.95, 33.45, 34.5, 32.1, 41.05, 33.8, 39.05, 34.9, 43.9, 29.35, 30.3, 28.85, 47.9, 44.05, 42.55, 48.35, 30.5, 30.05, 38.15, 37.65, 50.7, 37.55, 36.0, 33.4, 32.85, 38.95, 39.65, 35.9, 32.0, 41.4, 40.75, 24.35, 42.75, 45.6, 36.6, 37.6, 36.8, 40.45, 38.25, 40.9, 41.9, 39.55, 33.45, 33.15, 39.15, 42.75, 32.1, 31.3, 36.7, 30.45, 51.0, 46.6, 46.7, 34.0, 43.95, 37.05, 37.8, 41.65, 43.45]\n",
            "\n"
          ]
        },
        {
          "output_type": "display_data",
          "data": {
            "text/plain": [
              "<Figure size 640x480 with 1 Axes>"
            ],
            "image/png": "[encoded data removed]"
          },
          "metadata": {}
        },
        {
          "output_type": "stream",
          "name": "stdout",
          "text": [
            "37.89333333333333\n",
            "The mean above refers to the samples. It's easier to calculate mean over the samples rather than over the entire population.\n",
            "\n",
            "37.651685393258425\n",
            "This is the mean calculated over the entire population. Notice that there are no big differences. \n"
          ]
        }
      ]
    },
    {
      "cell_type": "markdown",
      "source": [
        "# **POISSON DISTRIBUTION**\n",
        "# **Tracking lead responses**"
      ],
      "metadata": {
        "id": "Kk59PEqHNjNJ"
      }
    },
    {
      "cell_type": "code",
      "source": [
        "# IMPORTING PACKAGES\n",
        "\n",
        "import pandas as pd\n",
        "import numpy as np\n",
        "import matplotlib.pyplot as plt\n",
        "\n",
        "# READING FILES\n",
        "\n",
        "path = '/content/drive/MyDrive/Colab Notebooks/Statistics in Py/amir_deals.csv'\n",
        "\n",
        "amir_deals = pd.read_csv(path)\n",
        "\n",
        "path2 = '/content/drive/MyDrive/Colab Notebooks/Statistics in Py/all_deals2.csv'\n",
        "\n",
        "all_deals = pd.read_csv(path2)\n",
        "\n",
        "\n",
        "# manipulating data\n",
        "\n",
        "# Import poisson from scipy.stats\n",
        "from scipy.stats import poisson\n",
        "\n",
        "# Probability of 5 responses (PROBABILITY OF A SINGLE VALUE)\n",
        "# POISSON.PMF(VALUE, MEAN)\n",
        "prob_5 = poisson.pmf(5, 4)\n",
        "\n",
        "print('Probability of 5 responses: ')\n",
        "print(prob_5)\n",
        "print()\n",
        "\n",
        "# Probability of 5 responses\n",
        "prob_coworker = poisson.pmf(5, 5.5)\n",
        "\n",
        "print('Probability of 5 responses of the co-worker: ')\n",
        "print(prob_coworker)\n",
        "print()\n",
        "\n",
        "# Probability of 2 or fewer responses\n",
        "prob_2_or_less = poisson.cdf(2, 4)\n",
        "\n",
        "print('Probability of 2 or fewer responses: ')\n",
        "\n",
        "print(prob_2_or_less)\n",
        "print()\n",
        "\n",
        "# Probability of > 10 responses\n",
        "prob_over_10 = 1 - poisson.cdf(10, 4)\n",
        "\n",
        "print('Probability of > 10 responses: ')\n",
        "\n",
        "print(prob_over_10)\n",
        "print()\n",
        "\n",
        "# Modeling time between leads\n",
        "\n",
        "from scipy.stats import expon\n",
        "\n",
        "\n",
        "# Print probability response takes < 1 hour\n",
        "print(expon.cdf(1, scale= 2.5))\n",
        "# he responds to 1 request every 2.5 hours\n",
        "\n",
        "print()\n",
        "\n",
        "# Print probability response takes > 4 hours\n",
        "print(1 - expon.cdf(4, scale= 2.5))\n",
        "print()\n",
        "\n",
        "# Print probability response takes 3-4 hours\n",
        "print(expon.cdf(4, scale= 2.5) - expon.cdf(3, scale= 2.5))\n",
        "print()\n"
      ],
      "metadata": {
        "colab": {
          "base_uri": "https://localhost:8080/"
        },
        "id": "EysxModnNtUI",
        "outputId": "07d35932-a264-43e9-ad72-065047a936aa"
      },
      "execution_count": 20,
      "outputs": [
        {
          "output_type": "stream",
          "name": "stdout",
          "text": [
            "Probability of 5 responses: \n",
            "0.1562934518505317\n",
            "\n",
            "Probability of 5 responses of the co-worker: \n",
            "0.17140068409793663\n",
            "\n",
            "Probability of 2 or fewer responses: \n",
            "0.23810330555354436\n",
            "\n",
            "Probability of > 10 responses: \n",
            "0.0028397661205137315\n",
            "\n",
            "0.3296799539643607\n"
          ]
        }
      ]
    },
    {
      "cell_type": "markdown",
      "source": [
        "# **CORRELATION**"
      ],
      "metadata": {
        "id": "hLX4WGkJlwFQ"
      }
    },
    {
      "cell_type": "code",
      "source": [
        "# IMPORTING PACKAGES\n",
        "\n",
        "import pandas as pd\n",
        "import seaborn as sns\n",
        "import matplotlib.pyplot as plt\n",
        "\n",
        "# READING FILES\n",
        "\n",
        "path = '/content/drive/MyDrive/Colab Notebooks/Statistics in Py/world_happiness.csv'\n",
        "\n",
        "world_happiness = pd.read_csv(path)\n",
        "\n",
        "# KNOW YOUR DATA\n",
        "\n",
        "print(world_happiness.head(10))\n",
        "\n",
        "# MANIPULATING DATA\n",
        "\n",
        "# Create a scatterplot of happiness_score vs. life_exp and show\n",
        "sns.scatterplot(x = 'life_exp', y = 'happiness_score', data = world_happiness)\n",
        "\n",
        "# Show plot\n",
        "plt.show()\n",
        "\n",
        "# NOW INCLUDING THE LINEAR TRENDLINE\n",
        "\n",
        "# Create scatterplot of happiness_score vs life_exp with trendline\n",
        "sns.regplot(x = 'life_exp', y = 'happiness_score', data = world_happiness, ci = None)\n",
        "print()\n",
        "\n",
        "# Show plot\n",
        "plt.show()\n",
        "print()\n",
        "\n",
        "# Create scatterplot of happiness_score vs life_exp with trendline\n",
        "sns.lmplot(x='life_exp', y='happiness_score', data=world_happiness, ci=None)\n",
        "\n",
        "# Show plot\n",
        "plt.show()\n",
        "print()\n",
        "# Correlation between life_exp and happiness_score\n",
        "cor = world_happiness['life_exp'].corr(world_happiness['happiness_score'])\n",
        "\n",
        "print(cor)\n",
        "print()\n",
        "\n",
        "# CORRELATION CAVEATS\n",
        "\n",
        "# What can't correlation measure?\n",
        "\n",
        "# explore one of the caveats of the correlation coefficient\n",
        "\n",
        "# Scatterplot of gdp_per_cap and life_exp\n",
        "sns.scatterplot(x = 'gdp_per_cap', y = 'life_exp', data = world_happiness)\n",
        "\n",
        "# Show plot\n",
        "plt.show()\n",
        "print()\n",
        "# Correlation between gdp_per_cap and life_exp\n",
        "cor2 = world_happiness['gdp_per_cap'].corr(world_happiness['life_exp'])\n",
        "\n",
        "print(cor2)\n",
        "print()\n",
        "\n",
        "# The correlation coefficient can't account for any relationships that aren't linear, regardless of strength.\n",
        "\n",
        "\n",
        "# TRANSFORMING VARIABLES TO APPLY CORRELATION!\n",
        "\n",
        "# Scatterplot of happiness_score vs. gdp_per_cap\n",
        "____\n",
        "plt.show()\n",
        "\n",
        "# Calculate correlation\n",
        "cor = ____\n",
        "print(cor)"
      ],
      "metadata": {
        "colab": {
          "base_uri": "https://localhost:8080/",
          "height": 1000
        },
        "id": "bg_Xg3Xklz54",
        "outputId": "b01cc466-e7d2-45c8-e61a-6d9af15817dd"
      },
      "execution_count": 14,
      "outputs": [
        {
          "output_type": "stream",
          "name": "stdout",
          "text": [
            "   Unnamed: 0      country  social_support  freedom  corruption  generosity  \\\n",
            "0           1      Finland             2.0      5.0         4.0        47.0   \n",
            "1           2      Denmark             4.0      6.0         3.0        22.0   \n",
            "2           3       Norway             3.0      3.0         8.0        11.0   \n",
            "3           4      Iceland             1.0      7.0        45.0         3.0   \n",
            "4           5  Netherlands            15.0     19.0        12.0         7.0   \n",
            "5           6  Switzerland            13.0     11.0         7.0        16.0   \n",
            "6           7       Sweden            25.0     10.0         6.0        17.0   \n",
            "7           8  New Zealand             5.0      8.0         5.0         8.0   \n",
            "8           9       Canada            20.0      9.0        11.0        14.0   \n",
            "9          10      Austria            31.0     26.0        19.0        25.0   \n",
            "\n",
            "   gdp_per_cap  life_exp  happiness_score  \n",
            "0        42400      81.8              155  \n",
            "1        48300      81.0              154  \n",
            "2        66300      82.6              153  \n",
            "3        47900      83.0              152  \n",
            "4        50500      81.8              151  \n",
            "5        59000      84.3              150  \n",
            "6        47200      82.8              149  \n",
            "7        36500      81.9              148  \n",
            "8        44200      82.2              147  \n",
            "9        46900      82.0              146  \n"
          ]
        },
        {
          "output_type": "display_data",
          "data": {
            "text/plain": [
              "<Figure size 640x480 with 1 Axes>"
            ],
            "image/png": "[encoded data removed]"
          },
          "metadata": {}
        },
        {
          "output_type": "stream",
          "name": "stdout",
          "text": [
            "\n"
          ]
        },
        {
          "output_type": "display_data",
          "data": {
            "text/plain": [
              "<Figure size 640x480 with 1 Axes>"
            ],
            "image/png": "[encoded data removed]"
          },
          "metadata": {}
        },
        {
          "output_type": "stream",
          "name": "stdout",
          "text": [
            "\n"
          ]
        },
        {
          "output_type": "display_data",
          "data": {
            "text/plain": [
              "<Figure size 500x500 with 1 Axes>"
            ],
            "image/png": "[encoded data removed]"
          },
          "metadata": {}
        },
        {
          "output_type": "stream",
          "name": "stdout",
          "text": [
            "\n",
            "0.7802249053272062\n",
            "\n"
          ]
        },
        {
          "output_type": "display_data",
          "data": {
            "text/plain": [
              "<Figure size 640x480 with 1 Axes>"
            ],
            "image/png": "[encoded data removed]"
          },
          "metadata": {}
        },
        {
          "output_type": "stream",
          "name": "stdout",
          "text": [
            "\n",
            "0.7019547642148012\n",
            "\n"
          ]
        }
      ]
    }
  ]
}